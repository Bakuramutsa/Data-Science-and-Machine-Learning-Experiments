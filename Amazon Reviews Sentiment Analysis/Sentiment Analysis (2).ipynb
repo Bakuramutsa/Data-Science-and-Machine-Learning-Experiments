{
 "cells": [
  {
   "cell_type": "markdown",
   "id": "be8e4f0f-5fd9-4e05-880a-3116e590f2cd",
   "metadata": {},
   "source": [
    "## AMAZON REVIEWS SENTIMENT ANALYSIS"
   ]
  },
  {
   "cell_type": "markdown",
   "id": "934c0406-77b2-4b18-b40b-a45a4f5c5db7",
   "metadata": {},
   "source": [
    "#### Project Objective:\n",
    "* Exploring VADER (Valence Aware Dictionary and sEntiment Reasoner) and RoBERTa (Robustly Optimized BERT) sentiment analysis techniques.\n",
    "* Comparing  these two techniques, and understanding when/where they are suitable. \n"
   ]
  },
  {
   "cell_type": "code",
   "execution_count": 101,
   "id": "c34c06d2-200f-4c14-8d22-359c5a522958",
   "metadata": {},
   "outputs": [],
   "source": [
    "import pandas as pd\n",
    "import numpy as np\n",
    "import matplotlib.pyplot as plt\n",
    "import seaborn as sns\n",
    "plt.style.use('ggplot')\n",
    "import nltk"
   ]
  },
  {
   "cell_type": "code",
   "execution_count": 103,
   "id": "5ff664d2-7acd-4040-8fc0-a7bd094457e6",
   "metadata": {},
   "outputs": [],
   "source": [
    "\n",
    "# import and read the data\n",
    "df = pd.read_csv(\"C:\\\\Users\\\\14257\\\\OneDrive\\\\Desktop\\\\Github Projects\\\\NLP projects\\\\archive (8)\\\\Reviews.csv\")"
   ]
  },
  {
   "cell_type": "code",
   "execution_count": 104,
   "id": "bd6884fe-4868-48fd-8516-70f93fecc322",
   "metadata": {},
   "outputs": [
    {
     "data": {
      "text/plain": [
       "Index(['Id', 'ProductId', 'UserId', 'ProfileName', 'HelpfulnessNumerator',\n",
       "       'HelpfulnessDenominator', 'Score', 'Time', 'Summary', 'Text'],\n",
       "      dtype='object')"
      ]
     },
     "execution_count": 104,
     "metadata": {},
     "output_type": "execute_result"
    }
   ],
   "source": [
    "df.columns"
   ]
  },
  {
   "cell_type": "code",
   "execution_count": 105,
   "id": "67394263-8dd9-4ee0-9bfb-9ca7024edb57",
   "metadata": {},
   "outputs": [
    {
     "data": {
      "text/plain": [
       "(568454, 10)"
      ]
     },
     "execution_count": 105,
     "metadata": {},
     "output_type": "execute_result"
    }
   ],
   "source": [
    "# Check the data shape\n",
    "df.shape"
   ]
  },
  {
   "cell_type": "code",
   "execution_count": 106,
   "id": "e27634f6-8557-4a44-b848-dfa774bdcdaa",
   "metadata": {},
   "outputs": [
    {
     "name": "stdout",
     "output_type": "stream",
     "text": [
      "(5000, 10)\n"
     ]
    }
   ],
   "source": [
    "data = df.iloc[:5000]  # Takes the first 5000 rows sequentially\n",
    "print(data.shape)"
   ]
  },
  {
   "cell_type": "code",
   "execution_count": 107,
   "id": "2fd414b1-8c78-4f4e-b2ea-ba68d6b87316",
   "metadata": {},
   "outputs": [
    {
     "data": {
      "text/plain": [
       "Text(0.5, 0, 'Review Stars')"
      ]
     },
     "execution_count": 107,
     "metadata": {},
     "output_type": "execute_result"
    },
    {
     "data": {
      "image/png": "[encoded data removed]",
      "text/plain": [
       "<Figure size 640x480 with 1 Axes>"
      ]
     },
     "metadata": {},
     "output_type": "display_data"
    }
   ],
   "source": [
    "ax= data['Score'].value_counts().sort_index()\\\n",
    ".plot(kind='bar', title=\"Count of Reviews\", fig=(10,5))\n",
    "ax.set_xlabel('Review Stars')\n"
   ]
  },
  {
   "cell_type": "markdown",
   "id": "641b68a4-6ba6-4a22-9cab-78aaf750cd34",
   "metadata": {},
   "source": [
    "### 1. Sentiment Aanlysis using VADER (Valence Aware Dictionary and sEntiment Reasoner)"
   ]
  },
  {
   "cell_type": "markdown",
   "id": "8f5c45f1-2211-46e6-a487-2db926726905",
   "metadata": {},
   "source": [
    "* This approach automatically tokenizes text into words, punctuation marks, emoticons, and special symbols.\n",
    "* VADER accepts raw text, perfoms tokenization in the background and computes positive,negative, neatral and compound scores for each token.\n",
    "* This approach does not account for relationship between words. It essentially looks at each word and scores it individually. This is a challenge because, naturally, human language do not work like that.\n"
   ]
  },
  {
   "cell_type": "code",
   "execution_count": 108,
   "id": "d7f93b1d-00ed-48be-b9b6-8916b72b1e25",
   "metadata": {},
   "outputs": [],
   "source": [
    "# nltk.download('vader_lexicon')\n",
    "from nltk.sentiment import SentimentIntensityAnalyzer\n",
    "from tqdm.notebook import tqdm # Progress tracker "
   ]
  },
  {
   "cell_type": "code",
   "execution_count": 109,
   "id": "246afc9b-2b61-441b-9a2f-50309160051d",
   "metadata": {},
   "outputs": [],
   "source": [
    "sia = SentimentIntensityAnalyzer() # Initialize the sentiment analyzer"
   ]
  },
  {
   "cell_type": "code",
   "execution_count": 110,
   "id": "33d48e26-c0bb-4a7e-b36b-95083657ef69",
   "metadata": {},
   "outputs": [
    {
     "data": {
      "text/plain": [
       "{'neg': 0.0, 'neu': 0.334, 'pos': 0.666, 'compound': 0.6115}"
      ]
     },
     "execution_count": 110,
     "metadata": {},
     "output_type": "execute_result"
    }
   ],
   "source": [
    "# VADER scoring Example\n",
    "sia.polarity_scores('I am so Happy')"
   ]
  },
  {
   "cell_type": "markdown",
   "id": "4c3e87de-2e2e-41a2-beb6-7cfc4fb61e47",
   "metadata": {},
   "source": [
    "* The text has no negative sentiment.\n",
    "* 33.4% of the text conveys a neutral tone\n",
    "* 66.6% of the text conveys a positive sentiment"
   ]
  },
  {
   "cell_type": "code",
   "execution_count": 111,
   "id": "4c5993d6-8ea4-4ad4-b1f9-c52e29330f26",
   "metadata": {},
   "outputs": [
    {
     "data": {
      "text/plain": [
       "{'neg': 0.538, 'neu': 0.462, 'pos': 0.0, 'compound': -0.5423}"
      ]
     },
     "execution_count": 111,
     "metadata": {},
     "output_type": "execute_result"
    }
   ],
   "source": [
    "sia.polarity_scores('This product is bad')"
   ]
  },
  {
   "cell_type": "markdown",
   "id": "7517238a-a9de-4225-b530-4deec15692b0",
   "metadata": {},
   "source": [
    "* The text has no positive sentiment.\n",
    "* 46.2% of the text conveys a neutral tone\n",
    "* 53.8% of the text conveys a positive sentiment"
   ]
  },
  {
   "cell_type": "code",
   "execution_count": 112,
   "id": "956c60f7-2571-4305-a116-1ab288b40c6c",
   "metadata": {},
   "outputs": [],
   "source": [
    "# Running VADER polarity score on the text column of the dataset\n",
    "results = {}\n",
    "for i, row in data.iterrows():\n",
    "    text = row['Text']\n",
    "    myid = row['Id']\n",
    "    results[myid] = sia.polarity_scores(text)\n"
   ]
  },
  {
   "cell_type": "code",
   "execution_count": 113,
   "id": "3c55164f-7529-4b4c-be87-ff7ac5cbfbe7",
   "metadata": {},
   "outputs": [],
   "source": [
    "# change the vaders scores into a dataframe\n",
    "vaders = pd.DataFrame(results).T\n",
    "vaders = vaders.reset_index().rename(columns={'index':'Id'})\n",
    "# Merge the scores to the original dataset \n",
    "vaders = vaders.merge(data,how='left')"
   ]
  },
  {
   "cell_type": "code",
   "execution_count": 114,
   "id": "d687fc78-e293-4338-80a2-ea46a7b5d98b",
   "metadata": {
    "scrolled": true
   },
   "outputs": [
    {
     "data": {
      "text/html": [
       "<div>\n",
       "<style scoped>\n",
       "    .dataframe tbody tr th:only-of-type {\n",
       "        vertical-align: middle;\n",
       "    }\n",
       "\n",
       "    .dataframe tbody tr th {\n",
       "        vertical-align: top;\n",
       "    }\n",
       "\n",
       "    .dataframe thead th {\n",
       "        text-align: right;\n",
       "    }\n",
       "</style>\n",
       "<table border=\"1\" class=\"dataframe\">\n",
       "  <thead>\n",
       "    <tr style=\"text-align: right;\">\n",
       "      <th></th>\n",
       "      <th>Id</th>\n",
       "      <th>neg</th>\n",
       "      <th>neu</th>\n",
       "      <th>pos</th>\n",
       "      <th>compound</th>\n",
       "      <th>ProductId</th>\n",
       "      <th>UserId</th>\n",
       "      <th>ProfileName</th>\n",
       "      <th>HelpfulnessNumerator</th>\n",
       "      <th>HelpfulnessDenominator</th>\n",
       "      <th>Score</th>\n",
       "      <th>Time</th>\n",
       "      <th>Summary</th>\n",
       "      <th>Text</th>\n",
       "    </tr>\n",
       "  </thead>\n",
       "  <tbody>\n",
       "    <tr>\n",
       "      <th>0</th>\n",
       "      <td>1</td>\n",
       "      <td>0.000</td>\n",
       "      <td>0.695</td>\n",
       "      <td>0.305</td>\n",
       "      <td>0.9441</td>\n",
       "      <td>B001E4KFG0</td>\n",
       "      <td>A3SGXH7AUHU8GW</td>\n",
       "      <td>delmartian</td>\n",
       "      <td>1</td>\n",
       "      <td>1</td>\n",
       "      <td>5</td>\n",
       "      <td>1303862400</td>\n",
       "      <td>Good Quality Dog Food</td>\n",
       "      <td>I have bought several of the Vitality canned d...</td>\n",
       "    </tr>\n",
       "    <tr>\n",
       "      <th>1</th>\n",
       "      <td>2</td>\n",
       "      <td>0.138</td>\n",
       "      <td>0.862</td>\n",
       "      <td>0.000</td>\n",
       "      <td>-0.5664</td>\n",
       "      <td>B00813GRG4</td>\n",
       "      <td>A1D87F6ZCVE5NK</td>\n",
       "      <td>dll pa</td>\n",
       "      <td>0</td>\n",
       "      <td>0</td>\n",
       "      <td>1</td>\n",
       "      <td>1346976000</td>\n",
       "      <td>Not as Advertised</td>\n",
       "      <td>Product arrived labeled as Jumbo Salted Peanut...</td>\n",
       "    </tr>\n",
       "    <tr>\n",
       "      <th>2</th>\n",
       "      <td>3</td>\n",
       "      <td>0.091</td>\n",
       "      <td>0.754</td>\n",
       "      <td>0.155</td>\n",
       "      <td>0.8265</td>\n",
       "      <td>B000LQOCH0</td>\n",
       "      <td>ABXLMWJIXXAIN</td>\n",
       "      <td>Natalia Corres \"Natalia Corres\"</td>\n",
       "      <td>1</td>\n",
       "      <td>1</td>\n",
       "      <td>4</td>\n",
       "      <td>1219017600</td>\n",
       "      <td>\"Delight\" says it all</td>\n",
       "      <td>This is a confection that has been around a fe...</td>\n",
       "    </tr>\n",
       "    <tr>\n",
       "      <th>3</th>\n",
       "      <td>4</td>\n",
       "      <td>0.000</td>\n",
       "      <td>1.000</td>\n",
       "      <td>0.000</td>\n",
       "      <td>0.0000</td>\n",
       "      <td>B000UA0QIQ</td>\n",
       "      <td>A395BORC6FGVXV</td>\n",
       "      <td>Karl</td>\n",
       "      <td>3</td>\n",
       "      <td>3</td>\n",
       "      <td>2</td>\n",
       "      <td>1307923200</td>\n",
       "      <td>Cough Medicine</td>\n",
       "      <td>If you are looking for the secret ingredient i...</td>\n",
       "    </tr>\n",
       "    <tr>\n",
       "      <th>4</th>\n",
       "      <td>5</td>\n",
       "      <td>0.000</td>\n",
       "      <td>0.552</td>\n",
       "      <td>0.448</td>\n",
       "      <td>0.9468</td>\n",
       "      <td>B006K2ZZ7K</td>\n",
       "      <td>A1UQRSCLF8GW1T</td>\n",
       "      <td>Michael D. Bigham \"M. Wassir\"</td>\n",
       "      <td>0</td>\n",
       "      <td>0</td>\n",
       "      <td>5</td>\n",
       "      <td>1350777600</td>\n",
       "      <td>Great taffy</td>\n",
       "      <td>Great taffy at a great price.  There was a wid...</td>\n",
       "    </tr>\n",
       "  </tbody>\n",
       "</table>\n",
       "</div>"
      ],
      "text/plain": [
       "   Id    neg    neu    pos  compound   ProductId          UserId  \\\n",
       "0   1  0.000  0.695  0.305    0.9441  B001E4KFG0  A3SGXH7AUHU8GW   \n",
       "1   2  0.138  0.862  0.000   -0.5664  B00813GRG4  A1D87F6ZCVE5NK   \n",
       "2   3  0.091  0.754  0.155    0.8265  B000LQOCH0   ABXLMWJIXXAIN   \n",
       "3   4  0.000  1.000  0.000    0.0000  B000UA0QIQ  A395BORC6FGVXV   \n",
       "4   5  0.000  0.552  0.448    0.9468  B006K2ZZ7K  A1UQRSCLF8GW1T   \n",
       "\n",
       "                       ProfileName  HelpfulnessNumerator  \\\n",
       "0                       delmartian                     1   \n",
       "1                           dll pa                     0   \n",
       "2  Natalia Corres \"Natalia Corres\"                     1   \n",
       "3                             Karl                     3   \n",
       "4    Michael D. Bigham \"M. Wassir\"                     0   \n",
       "\n",
       "   HelpfulnessDenominator  Score        Time                Summary  \\\n",
       "0                       1      5  1303862400  Good Quality Dog Food   \n",
       "1                       0      1  1346976000      Not as Advertised   \n",
       "2                       1      4  1219017600  \"Delight\" says it all   \n",
       "3                       3      2  1307923200         Cough Medicine   \n",
       "4                       0      5  1350777600            Great taffy   \n",
       "\n",
       "                                                Text  \n",
       "0  I have bought several of the Vitality canned d...  \n",
       "1  Product arrived labeled as Jumbo Salted Peanut...  \n",
       "2  This is a confection that has been around a fe...  \n",
       "3  If you are looking for the secret ingredient i...  \n",
       "4  Great taffy at a great price.  There was a wid...  "
      ]
     },
     "execution_count": 114,
     "metadata": {},
     "output_type": "execute_result"
    }
   ],
   "source": [
    "# Original dataset with VADERS score for each column\n",
    "vaders.head()"
   ]
  },
  {
   "cell_type": "code",
   "execution_count": 115,
   "id": "b6d4702a-548e-4c9f-9fab-62aca8e9ed37",
   "metadata": {},
   "outputs": [
    {
     "data": {
      "image/png": "[encoded data removed]",
      "text/plain": [
       "<Figure size 640x480 with 1 Axes>"
      ]
     },
     "metadata": {},
     "output_type": "display_data"
    }
   ],
   "source": [
    "# Compare the VADER compound results to the amazon star reviews score\n",
    "ax = sns.barplot(data=vaders, x='Score', y='compound')\n",
    "ax.set_title('Compound Score by Amazon Star Review')\n",
    "plt.show()"
   ]
  },
  {
   "cell_type": "markdown",
   "id": "0f05c31b-5b7e-4544-83ce-bd580e9cfb16",
   "metadata": {},
   "source": [
    "* As the Amazon star review score increases, the compound score also increases. This indicates that higher star reviews tend to have more positive sentiments based on VADER analysis\n",
    "* 4 Stars and 5 Stars show the highest compound scores, indicating very positive sentiment. The 5-star reviews, in particular, have the highest positivity."
   ]
  },
  {
   "cell_type": "code",
   "execution_count": 116,
   "id": "d797a9f9-a570-412b-9878-63008c157c6e",
   "metadata": {},
   "outputs": [
    {
     "data": {
      "image/png": "[encoded data removed]",
      "text/plain": [
       "<Figure size 1200x300 with 3 Axes>"
      ]
     },
     "metadata": {},
     "output_type": "display_data"
    }
   ],
   "source": [
    "# Compare the VADER positive, negative and neutral results to the amazon star reviews score separately.\n",
    "fig, axs = plt.subplots(1, 3, figsize=(12, 3))\n",
    "sns.barplot(data=vaders, x='Score', y='pos', ax=axs[0])\n",
    "sns.barplot(data=vaders, x='Score', y='neu', ax=axs[1])\n",
    "sns.barplot(data=vaders, x='Score', y='neg', ax=axs[2])\n",
    "axs[0].set_title('Positive')\n",
    "axs[1].set_title('Neutral')\n",
    "axs[2].set_title('Negative')\n",
    "plt.tight_layout()\n",
    "plt.show()\n"
   ]
  },
  {
   "cell_type": "markdown",
   "id": "35b83d46-2b1b-449d-88fd-ebf48f51cb95",
   "metadata": {},
   "source": [
    "* Low ratings (1 and 2): Dominated by negative sentiment with some neutral elements.\n",
    "* Mid-range ratings (3): Balanced between positive, neutral, and negative sentiment.\n",
    "* High ratings (4 and 5): Strongly positive sentiment with minimal neutral or negative sentiment."
   ]
  },
  {
   "cell_type": "markdown",
   "id": "3373e1c2-6d23-4cba-b95b-0e2751249f72",
   "metadata": {},
   "source": [
    "* Sentiment Validation: This breakdown could be used to validate customer review models where sentiment needs to align with star ratings.\n",
    "* Review Analysis: Understanding the mix of sentiment in specific star categories can help companies identify areas of dissatisfaction or improvement.\n",
    "* Anomaly Detection: Reviews with mismatched sentiment scores and star ratings (e.g., high positive sentiment in a 1-star review) can be flagged for further investigation."
   ]
  },
  {
   "cell_type": "markdown",
   "id": "53ee8243-4b9c-4406-8776-944da67d7759",
   "metadata": {},
   "source": [
    "### 2. RoBERTa Pretrained Model"
   ]
  },
  {
   "cell_type": "markdown",
   "id": "aeaeb42e-fcc1-452f-a4d8-d8758da0fdb8",
   "metadata": {},
   "source": [
    "* RoBERTa is different from VADER in that it considers the entire context of a word (both before and after it) to better understand its meaning.\n",
    "* It is pretrained on large amount of unlabeled texts using masked language modeling. This means it masks random words in the input and trains the model to predict masked tokens based on the context. "
   ]
  },
  {
   "cell_type": "code",
   "execution_count": 117,
   "id": "8fff5a12-1f91-4e5a-9da2-c05e19389f4b",
   "metadata": {},
   "outputs": [],
   "source": [
    "from transformers import AutoTokenizer # This converts the text into token IDs that the model can understand. \n",
    "from transformers import AutoModelForSequenceClassification, pipeline # pretrained model for sequence classification\n",
    "from scipy.special import softmax # converts raw logits into probabilities."
   ]
  },
  {
   "cell_type": "code",
   "execution_count": 118,
   "id": "f8e854a6-a5b5-4e62-8a75-dd2d6a93ef7f",
   "metadata": {},
   "outputs": [],
   "source": [
    "# Specifying the model: This is a pretrained model specifically for sentiment analysis on twitter data.\n",
    "MODEL = \"cardiffnlp/twitter-roberta-base-sentiment\"\n",
    "# Load tokenizer and model from Hugging Face's transformers library\n",
    "\n",
    "tokenizer = AutoTokenizer.from_pretrained(MODEL)\n",
    "model = AutoModelForSequenceClassification.from_pretrained(MODEL) # This is a pretrained model specific for sequence classification tasks\n"
   ]
  },
  {
   "cell_type": "code",
   "execution_count": 120,
   "id": "a6b84dcb-7281-4818-adb0-58c9c4b4671d",
   "metadata": {},
   "outputs": [
    {
     "data": {
      "text/plain": [
       "\"This oatmeal is not good. Its mushy, soft, I don't like it. Quaker Oats is the way to go.\""
      ]
     },
     "execution_count": 120,
     "metadata": {},
     "output_type": "execute_result"
    }
   ],
   "source": [
    "## Run RoBERTa Model on one sentence as an example\n",
    "\n",
    "text = data['Text'][50]\n",
    "text"
   ]
  },
  {
   "cell_type": "code",
   "execution_count": 121,
   "id": "92f0c96c-6f15-48bf-a51f-f5e949fe6ade",
   "metadata": {},
   "outputs": [
    {
     "name": "stdout",
     "output_type": "stream",
     "text": [
      "{'roberta_neg': 0.9763551354408264, 'roberta_neu': 0.020687466487288475, 'roberta_pos': 0.002957369200885296}\n"
     ]
    }
   ],
   "source": [
    "encoded_text = tokenizer(text, return_tensors='pt') # The tokenizer will convert the words into token and map them to token IDs\n",
    "output = model(**encoded_text) # run the roberta model on encoded text example and get output logits\n",
    "scores = output[0][0].detach().numpy() \n",
    "scores = softmax(scores) # Convert logits into probabilities\n",
    "scores= {\n",
    "    'roberta_neg' : scores[0],\n",
    "    'roberta_neu' : scores[1],\n",
    "    'roberta_pos' : scores[2]\n",
    "}\n",
    "\n",
    "scores = {key: float(value) for key, value in scores.items()}\n",
    "print(scores)"
   ]
  },
  {
   "cell_type": "code",
   "execution_count": 122,
   "id": "11936949-6444-416d-8958-7cce3b7dbc7e",
   "metadata": {},
   "outputs": [],
   "source": [
    "# Running roBERTa Model on the entire Text Column\n",
    "\n",
    "## Define the roberta model function\n",
    "def scores_roberta(text):\n",
    "    encoded_text = tokenizer(text, return_tensors='pt') # The tokenizer will convert the words into token and map them to token IDs\n",
    "    output = model(**encoded_text) # run the roberta model on encoded text example and get output logits\n",
    "    scores = output[0][0].detach().numpy() \n",
    "    scores = softmax(scores) # Convert logits into probabilities\n",
    "    scores= {\n",
    "        'roberta_neg' : scores[0],\n",
    "        'roberta_neu' : scores[1],\n",
    "        'roberta_pos' : scores[2]\n",
    "    }\n",
    "    scores = {key: float(value) for key, value in scores.items()}\n",
    "    return scores\n",
    "    \n"
   ]
  },
  {
   "cell_type": "code",
   "execution_count": 123,
   "id": "ddafbc4f-d139-4ac9-89a4-8c43c7b796d9",
   "metadata": {},
   "outputs": [
    {
     "name": "stdout",
     "output_type": "stream",
     "text": [
      "Error at 83\n",
      "Error at 187\n",
      "Error at 529\n",
      "Error at 540\n",
      "Error at 746\n",
      "Error at 863\n",
      "Error at 1053\n",
      "Error at 1070\n",
      "Error at 1156\n",
      "Error at 1321\n",
      "Error at 1375\n",
      "Error at 1498\n",
      "Error at 1575\n",
      "Error at 1796\n",
      "Error at 1826\n",
      "Error at 2169\n",
      "Error at 2248\n",
      "Error at 2476\n",
      "Error at 2492\n",
      "Error at 2584\n",
      "Error at 2610\n",
      "Error at 2897\n",
      "Error at 2898\n",
      "Error at 2902\n",
      "Error at 2928\n",
      "Error at 2942\n",
      "Error at 2944\n",
      "Error at 2947\n",
      "Error at 2948\n",
      "Error at 3022\n",
      "Error at 3023\n",
      "Error at 3025\n",
      "Error at 3306\n",
      "Error at 3788\n",
      "Error at 3969\n",
      "Error at 4107\n",
      "Error at 4110\n",
      "Error at 4307\n",
      "Error at 4316\n",
      "Error at 4408\n",
      "Error at 4483\n",
      "Error at 4512\n",
      "Error at 4553\n",
      "Error at 4583\n"
     ]
    }
   ],
   "source": [
    "results = {}\n",
    "for i, row in data.iterrows():\n",
    "    try:\n",
    "        text = row['Text']\n",
    "        myid = row['Id']\n",
    "        vader_results= sia.polarity_scores(text)\n",
    "        vader_results_renamed = {}\n",
    "        for Key, value in vader_results.items():\n",
    "            vader_results_renamed[f\"vader_{Key}\"]=value    \n",
    "        roberta_results= scores_roberta(text)\n",
    "        both_models_scores = {**vader_results_renamed, **roberta_results}\n",
    "        results[myid]=both_models_scores\n",
    "    except RuntimeError: \n",
    "        print(f'Error at {myid}')\n",
    "    \n"
   ]
  },
  {
   "cell_type": "code",
   "execution_count": 124,
   "id": "58f3ed17-3470-4fdd-a40c-4bfabc929587",
   "metadata": {},
   "outputs": [],
   "source": [
    "results_df = pd.DataFrame(results).T\n",
    "results_df = results_df.reset_index().rename(columns={'index':'Id'})\n",
    "results_df = results_df.merge(data,how='left')"
   ]
  },
  {
   "cell_type": "code",
   "execution_count": 125,
   "id": "06647f65-a27c-4905-a1f8-4505069a72ac",
   "metadata": {},
   "outputs": [
    {
     "data": {
      "text/html": [
       "<div>\n",
       "<style scoped>\n",
       "    .dataframe tbody tr th:only-of-type {\n",
       "        vertical-align: middle;\n",
       "    }\n",
       "\n",
       "    .dataframe tbody tr th {\n",
       "        vertical-align: top;\n",
       "    }\n",
       "\n",
       "    .dataframe thead th {\n",
       "        text-align: right;\n",
       "    }\n",
       "</style>\n",
       "<table border=\"1\" class=\"dataframe\">\n",
       "  <thead>\n",
       "    <tr style=\"text-align: right;\">\n",
       "      <th></th>\n",
       "      <th>Id</th>\n",
       "      <th>vader_neg</th>\n",
       "      <th>vader_neu</th>\n",
       "      <th>vader_pos</th>\n",
       "      <th>vader_compound</th>\n",
       "      <th>roberta_neg</th>\n",
       "      <th>roberta_neu</th>\n",
       "      <th>roberta_pos</th>\n",
       "      <th>ProductId</th>\n",
       "      <th>UserId</th>\n",
       "      <th>ProfileName</th>\n",
       "      <th>HelpfulnessNumerator</th>\n",
       "      <th>HelpfulnessDenominator</th>\n",
       "      <th>Score</th>\n",
       "      <th>Time</th>\n",
       "      <th>Summary</th>\n",
       "      <th>Text</th>\n",
       "    </tr>\n",
       "  </thead>\n",
       "  <tbody>\n",
       "    <tr>\n",
       "      <th>0</th>\n",
       "      <td>1</td>\n",
       "      <td>0.000</td>\n",
       "      <td>0.695</td>\n",
       "      <td>0.305</td>\n",
       "      <td>0.9441</td>\n",
       "      <td>0.009624</td>\n",
       "      <td>0.049980</td>\n",
       "      <td>0.940395</td>\n",
       "      <td>B001E4KFG0</td>\n",
       "      <td>A3SGXH7AUHU8GW</td>\n",
       "      <td>delmartian</td>\n",
       "      <td>1</td>\n",
       "      <td>1</td>\n",
       "      <td>5</td>\n",
       "      <td>1303862400</td>\n",
       "      <td>Good Quality Dog Food</td>\n",
       "      <td>I have bought several of the Vitality canned d...</td>\n",
       "    </tr>\n",
       "    <tr>\n",
       "      <th>1</th>\n",
       "      <td>2</td>\n",
       "      <td>0.138</td>\n",
       "      <td>0.862</td>\n",
       "      <td>0.000</td>\n",
       "      <td>-0.5664</td>\n",
       "      <td>0.508986</td>\n",
       "      <td>0.452414</td>\n",
       "      <td>0.038600</td>\n",
       "      <td>B00813GRG4</td>\n",
       "      <td>A1D87F6ZCVE5NK</td>\n",
       "      <td>dll pa</td>\n",
       "      <td>0</td>\n",
       "      <td>0</td>\n",
       "      <td>1</td>\n",
       "      <td>1346976000</td>\n",
       "      <td>Not as Advertised</td>\n",
       "      <td>Product arrived labeled as Jumbo Salted Peanut...</td>\n",
       "    </tr>\n",
       "    <tr>\n",
       "      <th>2</th>\n",
       "      <td>3</td>\n",
       "      <td>0.091</td>\n",
       "      <td>0.754</td>\n",
       "      <td>0.155</td>\n",
       "      <td>0.8265</td>\n",
       "      <td>0.003229</td>\n",
       "      <td>0.098067</td>\n",
       "      <td>0.898704</td>\n",
       "      <td>B000LQOCH0</td>\n",
       "      <td>ABXLMWJIXXAIN</td>\n",
       "      <td>Natalia Corres \"Natalia Corres\"</td>\n",
       "      <td>1</td>\n",
       "      <td>1</td>\n",
       "      <td>4</td>\n",
       "      <td>1219017600</td>\n",
       "      <td>\"Delight\" says it all</td>\n",
       "      <td>This is a confection that has been around a fe...</td>\n",
       "    </tr>\n",
       "    <tr>\n",
       "      <th>3</th>\n",
       "      <td>4</td>\n",
       "      <td>0.000</td>\n",
       "      <td>1.000</td>\n",
       "      <td>0.000</td>\n",
       "      <td>0.0000</td>\n",
       "      <td>0.002295</td>\n",
       "      <td>0.090219</td>\n",
       "      <td>0.907486</td>\n",
       "      <td>B000UA0QIQ</td>\n",
       "      <td>A395BORC6FGVXV</td>\n",
       "      <td>Karl</td>\n",
       "      <td>3</td>\n",
       "      <td>3</td>\n",
       "      <td>2</td>\n",
       "      <td>1307923200</td>\n",
       "      <td>Cough Medicine</td>\n",
       "      <td>If you are looking for the secret ingredient i...</td>\n",
       "    </tr>\n",
       "    <tr>\n",
       "      <th>4</th>\n",
       "      <td>5</td>\n",
       "      <td>0.000</td>\n",
       "      <td>0.552</td>\n",
       "      <td>0.448</td>\n",
       "      <td>0.9468</td>\n",
       "      <td>0.001635</td>\n",
       "      <td>0.010302</td>\n",
       "      <td>0.988063</td>\n",
       "      <td>B006K2ZZ7K</td>\n",
       "      <td>A1UQRSCLF8GW1T</td>\n",
       "      <td>Michael D. Bigham \"M. Wassir\"</td>\n",
       "      <td>0</td>\n",
       "      <td>0</td>\n",
       "      <td>5</td>\n",
       "      <td>1350777600</td>\n",
       "      <td>Great taffy</td>\n",
       "      <td>Great taffy at a great price.  There was a wid...</td>\n",
       "    </tr>\n",
       "  </tbody>\n",
       "</table>\n",
       "</div>"
      ],
      "text/plain": [
       "   Id  vader_neg  vader_neu  vader_pos  vader_compound  roberta_neg  \\\n",
       "0   1      0.000      0.695      0.305          0.9441     0.009624   \n",
       "1   2      0.138      0.862      0.000         -0.5664     0.508986   \n",
       "2   3      0.091      0.754      0.155          0.8265     0.003229   \n",
       "3   4      0.000      1.000      0.000          0.0000     0.002295   \n",
       "4   5      0.000      0.552      0.448          0.9468     0.001635   \n",
       "\n",
       "   roberta_neu  roberta_pos   ProductId          UserId  \\\n",
       "0     0.049980     0.940395  B001E4KFG0  A3SGXH7AUHU8GW   \n",
       "1     0.452414     0.038600  B00813GRG4  A1D87F6ZCVE5NK   \n",
       "2     0.098067     0.898704  B000LQOCH0   ABXLMWJIXXAIN   \n",
       "3     0.090219     0.907486  B000UA0QIQ  A395BORC6FGVXV   \n",
       "4     0.010302     0.988063  B006K2ZZ7K  A1UQRSCLF8GW1T   \n",
       "\n",
       "                       ProfileName  HelpfulnessNumerator  \\\n",
       "0                       delmartian                     1   \n",
       "1                           dll pa                     0   \n",
       "2  Natalia Corres \"Natalia Corres\"                     1   \n",
       "3                             Karl                     3   \n",
       "4    Michael D. Bigham \"M. Wassir\"                     0   \n",
       "\n",
       "   HelpfulnessDenominator  Score        Time                Summary  \\\n",
       "0                       1      5  1303862400  Good Quality Dog Food   \n",
       "1                       0      1  1346976000      Not as Advertised   \n",
       "2                       1      4  1219017600  \"Delight\" says it all   \n",
       "3                       3      2  1307923200         Cough Medicine   \n",
       "4                       0      5  1350777600            Great taffy   \n",
       "\n",
       "                                                Text  \n",
       "0  I have bought several of the Vitality canned d...  \n",
       "1  Product arrived labeled as Jumbo Salted Peanut...  \n",
       "2  This is a confection that has been around a fe...  \n",
       "3  If you are looking for the secret ingredient i...  \n",
       "4  Great taffy at a great price.  There was a wid...  "
      ]
     },
     "execution_count": 125,
     "metadata": {},
     "output_type": "execute_result"
    }
   ],
   "source": [
    "results_df.head() "
   ]
  },
  {
   "cell_type": "markdown",
   "id": "510ea7be-9d5b-47ac-a255-97d165a69613",
   "metadata": {},
   "source": [
    "### 3. Comparing the scores for both models"
   ]
  },
  {
   "cell_type": "code",
   "execution_count": 126,
   "id": "b2304bf4-9a06-4809-ba8e-ed0b6bb72171",
   "metadata": {},
   "outputs": [
    {
     "data": {
      "text/html": [
       "<div>\n",
       "<style scoped>\n",
       "    .dataframe tbody tr th:only-of-type {\n",
       "        vertical-align: middle;\n",
       "    }\n",
       "\n",
       "    .dataframe tbody tr th {\n",
       "        vertical-align: top;\n",
       "    }\n",
       "\n",
       "    .dataframe thead th {\n",
       "        text-align: right;\n",
       "    }\n",
       "</style>\n",
       "<table border=\"1\" class=\"dataframe\">\n",
       "  <thead>\n",
       "    <tr style=\"text-align: right;\">\n",
       "      <th></th>\n",
       "      <th>1</th>\n",
       "      <th>2</th>\n",
       "      <th>3</th>\n",
       "      <th>4</th>\n",
       "      <th>5</th>\n",
       "      <th>6</th>\n",
       "      <th>7</th>\n",
       "      <th>8</th>\n",
       "      <th>9</th>\n",
       "      <th>10</th>\n",
       "      <th>...</th>\n",
       "      <th>4991</th>\n",
       "      <th>4992</th>\n",
       "      <th>4993</th>\n",
       "      <th>4994</th>\n",
       "      <th>4995</th>\n",
       "      <th>4996</th>\n",
       "      <th>4997</th>\n",
       "      <th>4998</th>\n",
       "      <th>4999</th>\n",
       "      <th>5000</th>\n",
       "    </tr>\n",
       "  </thead>\n",
       "  <tbody>\n",
       "    <tr>\n",
       "      <th>vader_neg</th>\n",
       "      <td>0.000000</td>\n",
       "      <td>0.138000</td>\n",
       "      <td>0.091000</td>\n",
       "      <td>0.000000</td>\n",
       "      <td>0.000000</td>\n",
       "      <td>0.029000</td>\n",
       "      <td>0.034000</td>\n",
       "      <td>0.000000</td>\n",
       "      <td>0.000000</td>\n",
       "      <td>0.000000</td>\n",
       "      <td>...</td>\n",
       "      <td>0.000000</td>\n",
       "      <td>0.000000</td>\n",
       "      <td>0.115000</td>\n",
       "      <td>0.000000</td>\n",
       "      <td>0.080000</td>\n",
       "      <td>0.025000</td>\n",
       "      <td>0.026000</td>\n",
       "      <td>0.097000</td>\n",
       "      <td>0.154000</td>\n",
       "      <td>0.000000</td>\n",
       "    </tr>\n",
       "    <tr>\n",
       "      <th>vader_neu</th>\n",
       "      <td>0.695000</td>\n",
       "      <td>0.862000</td>\n",
       "      <td>0.754000</td>\n",
       "      <td>1.000000</td>\n",
       "      <td>0.552000</td>\n",
       "      <td>0.809000</td>\n",
       "      <td>0.693000</td>\n",
       "      <td>0.520000</td>\n",
       "      <td>0.851000</td>\n",
       "      <td>0.705000</td>\n",
       "      <td>...</td>\n",
       "      <td>0.565000</td>\n",
       "      <td>0.818000</td>\n",
       "      <td>0.848000</td>\n",
       "      <td>0.679000</td>\n",
       "      <td>0.692000</td>\n",
       "      <td>0.883000</td>\n",
       "      <td>0.764000</td>\n",
       "      <td>0.827000</td>\n",
       "      <td>0.637000</td>\n",
       "      <td>0.717000</td>\n",
       "    </tr>\n",
       "    <tr>\n",
       "      <th>vader_pos</th>\n",
       "      <td>0.305000</td>\n",
       "      <td>0.000000</td>\n",
       "      <td>0.155000</td>\n",
       "      <td>0.000000</td>\n",
       "      <td>0.448000</td>\n",
       "      <td>0.163000</td>\n",
       "      <td>0.273000</td>\n",
       "      <td>0.480000</td>\n",
       "      <td>0.149000</td>\n",
       "      <td>0.295000</td>\n",
       "      <td>...</td>\n",
       "      <td>0.435000</td>\n",
       "      <td>0.182000</td>\n",
       "      <td>0.037000</td>\n",
       "      <td>0.321000</td>\n",
       "      <td>0.228000</td>\n",
       "      <td>0.092000</td>\n",
       "      <td>0.210000</td>\n",
       "      <td>0.076000</td>\n",
       "      <td>0.209000</td>\n",
       "      <td>0.283000</td>\n",
       "    </tr>\n",
       "    <tr>\n",
       "      <th>vader_compound</th>\n",
       "      <td>0.944100</td>\n",
       "      <td>-0.566400</td>\n",
       "      <td>0.826500</td>\n",
       "      <td>0.000000</td>\n",
       "      <td>0.946800</td>\n",
       "      <td>0.883000</td>\n",
       "      <td>0.934600</td>\n",
       "      <td>0.948700</td>\n",
       "      <td>0.636900</td>\n",
       "      <td>0.831300</td>\n",
       "      <td>...</td>\n",
       "      <td>0.953100</td>\n",
       "      <td>0.717700</td>\n",
       "      <td>-0.826400</td>\n",
       "      <td>0.969300</td>\n",
       "      <td>0.792000</td>\n",
       "      <td>0.719300</td>\n",
       "      <td>0.984600</td>\n",
       "      <td>-0.055400</td>\n",
       "      <td>0.907800</td>\n",
       "      <td>0.992300</td>\n",
       "    </tr>\n",
       "    <tr>\n",
       "      <th>roberta_neg</th>\n",
       "      <td>0.009624</td>\n",
       "      <td>0.508986</td>\n",
       "      <td>0.003229</td>\n",
       "      <td>0.002295</td>\n",
       "      <td>0.001635</td>\n",
       "      <td>0.006130</td>\n",
       "      <td>0.001305</td>\n",
       "      <td>0.002029</td>\n",
       "      <td>0.003874</td>\n",
       "      <td>0.003103</td>\n",
       "      <td>...</td>\n",
       "      <td>0.001691</td>\n",
       "      <td>0.007842</td>\n",
       "      <td>0.905936</td>\n",
       "      <td>0.001312</td>\n",
       "      <td>0.133682</td>\n",
       "      <td>0.100337</td>\n",
       "      <td>0.019922</td>\n",
       "      <td>0.602979</td>\n",
       "      <td>0.011522</td>\n",
       "      <td>0.009068</td>\n",
       "    </tr>\n",
       "    <tr>\n",
       "      <th>roberta_neu</th>\n",
       "      <td>0.049980</td>\n",
       "      <td>0.452414</td>\n",
       "      <td>0.098067</td>\n",
       "      <td>0.090219</td>\n",
       "      <td>0.010302</td>\n",
       "      <td>0.021796</td>\n",
       "      <td>0.007774</td>\n",
       "      <td>0.005685</td>\n",
       "      <td>0.094156</td>\n",
       "      <td>0.055912</td>\n",
       "      <td>...</td>\n",
       "      <td>0.009245</td>\n",
       "      <td>0.126614</td>\n",
       "      <td>0.084066</td>\n",
       "      <td>0.007160</td>\n",
       "      <td>0.375455</td>\n",
       "      <td>0.300059</td>\n",
       "      <td>0.092043</td>\n",
       "      <td>0.333857</td>\n",
       "      <td>0.044735</td>\n",
       "      <td>0.052034</td>\n",
       "    </tr>\n",
       "    <tr>\n",
       "      <th>roberta_pos</th>\n",
       "      <td>0.940395</td>\n",
       "      <td>0.038600</td>\n",
       "      <td>0.898704</td>\n",
       "      <td>0.907486</td>\n",
       "      <td>0.988063</td>\n",
       "      <td>0.972075</td>\n",
       "      <td>0.990921</td>\n",
       "      <td>0.992285</td>\n",
       "      <td>0.901970</td>\n",
       "      <td>0.940984</td>\n",
       "      <td>...</td>\n",
       "      <td>0.989064</td>\n",
       "      <td>0.865544</td>\n",
       "      <td>0.009998</td>\n",
       "      <td>0.991528</td>\n",
       "      <td>0.490863</td>\n",
       "      <td>0.599604</td>\n",
       "      <td>0.888035</td>\n",
       "      <td>0.063164</td>\n",
       "      <td>0.943743</td>\n",
       "      <td>0.938897</td>\n",
       "    </tr>\n",
       "  </tbody>\n",
       "</table>\n",
       "<p>7 rows × 4956 columns</p>\n",
       "</div>"
      ],
      "text/plain": [
       "                    1         2         3         4         5         6     \\\n",
       "vader_neg       0.000000  0.138000  0.091000  0.000000  0.000000  0.029000   \n",
       "vader_neu       0.695000  0.862000  0.754000  1.000000  0.552000  0.809000   \n",
       "vader_pos       0.305000  0.000000  0.155000  0.000000  0.448000  0.163000   \n",
       "vader_compound  0.944100 -0.566400  0.826500  0.000000  0.946800  0.883000   \n",
       "roberta_neg     0.009624  0.508986  0.003229  0.002295  0.001635  0.006130   \n",
       "roberta_neu     0.049980  0.452414  0.098067  0.090219  0.010302  0.021796   \n",
       "roberta_pos     0.940395  0.038600  0.898704  0.907486  0.988063  0.972075   \n",
       "\n",
       "                    7         8         9         10    ...      4991  \\\n",
       "vader_neg       0.034000  0.000000  0.000000  0.000000  ...  0.000000   \n",
       "vader_neu       0.693000  0.520000  0.851000  0.705000  ...  0.565000   \n",
       "vader_pos       0.273000  0.480000  0.149000  0.295000  ...  0.435000   \n",
       "vader_compound  0.934600  0.948700  0.636900  0.831300  ...  0.953100   \n",
       "roberta_neg     0.001305  0.002029  0.003874  0.003103  ...  0.001691   \n",
       "roberta_neu     0.007774  0.005685  0.094156  0.055912  ...  0.009245   \n",
       "roberta_pos     0.990921  0.992285  0.901970  0.940984  ...  0.989064   \n",
       "\n",
       "                    4992      4993      4994      4995      4996      4997  \\\n",
       "vader_neg       0.000000  0.115000  0.000000  0.080000  0.025000  0.026000   \n",
       "vader_neu       0.818000  0.848000  0.679000  0.692000  0.883000  0.764000   \n",
       "vader_pos       0.182000  0.037000  0.321000  0.228000  0.092000  0.210000   \n",
       "vader_compound  0.717700 -0.826400  0.969300  0.792000  0.719300  0.984600   \n",
       "roberta_neg     0.007842  0.905936  0.001312  0.133682  0.100337  0.019922   \n",
       "roberta_neu     0.126614  0.084066  0.007160  0.375455  0.300059  0.092043   \n",
       "roberta_pos     0.865544  0.009998  0.991528  0.490863  0.599604  0.888035   \n",
       "\n",
       "                    4998      4999      5000  \n",
       "vader_neg       0.097000  0.154000  0.000000  \n",
       "vader_neu       0.827000  0.637000  0.717000  \n",
       "vader_pos       0.076000  0.209000  0.283000  \n",
       "vader_compound -0.055400  0.907800  0.992300  \n",
       "roberta_neg     0.602979  0.011522  0.009068  \n",
       "roberta_neu     0.333857  0.044735  0.052034  \n",
       "roberta_pos     0.063164  0.943743  0.938897  \n",
       "\n",
       "[7 rows x 4956 columns]"
      ]
     },
     "execution_count": 126,
     "metadata": {},
     "output_type": "execute_result"
    }
   ],
   "source": [
    "results = pd.DataFrame(results)\n",
    "results "
   ]
  },
  {
   "cell_type": "code",
   "execution_count": 127,
   "id": "43cd38b0-9503-43fe-bb7d-a2a26f574a2c",
   "metadata": {},
   "outputs": [],
   "source": [
    "def classify_sentiment(negative, neutral, positive):\n",
    "    if max(negative, neutral, positive) == negative:\n",
    "        return 'negative'\n",
    "    elif max(negative, neutral, positive) == neutral:\n",
    "        return 'neutral'\n",
    "    else:\n",
    "        return 'positive'\n"
   ]
  },
  {
   "cell_type": "code",
   "execution_count": 128,
   "id": "cda2c8ac-c1a9-45b7-a178-5ceaba76d6d2",
   "metadata": {},
   "outputs": [],
   "source": [
    "results_df['vader_sentiment'] = results_df.apply(lambda row: classify_sentiment(row['vader_neg'], row['vader_neu'], row['vader_pos']), axis=1)\n",
    "results_df['roberta_sentiment'] = results_df.apply(lambda row: classify_sentiment(row['roberta_neg'], row['roberta_neu'], row['roberta_pos']), axis=1)\n"
   ]
  },
  {
   "cell_type": "code",
   "execution_count": 130,
   "id": "54136e1b-5c58-4fc6-9d76-1ff339ea705a",
   "metadata": {},
   "outputs": [
    {
     "name": "stdout",
     "output_type": "stream",
     "text": [
      "VADER agreement with customer rating (Score): 79.76%\n",
      "RoBERTa agreement with customer rating (Score): 85.21%\n"
     ]
    }
   ],
   "source": [
    "# A function to map VADER compound scores to sentiment using commonly used thresholds\n",
    "### Negative Sentiment (compound ≤ -0.05)\n",
    "### Neutral Sentiment (-0.05 < compound < 0.05\n",
    "### Positive Sentiment (compound ≥ 0.05)\n",
    "\n",
    "def map_vader_compound_to_sentiment(compound):\n",
    "    if compound <= -0.05:\n",
    "        return 'negative'\n",
    "    elif -0.05 < compound < 0.05:\n",
    "        return 'neutral'\n",
    "    else:\n",
    "        return 'positive'\n",
    "\n",
    "results_df['vader_sentiment_from_compound'] = results_df['vader_compound'].apply(map_vader_compound_to_sentiment)\n",
    "\n",
    "# A function to map original customer ratings to sentiment\n",
    "def map_rating_to_sentiment(rating):\n",
    "    if rating <= 2:\n",
    "        return 'negative'\n",
    "    elif rating == 3:\n",
    "        return 'neutral'\n",
    "    else:\n",
    "        return 'positive'\n",
    "results_df['customer_sentiment'] = results_df['Score'].apply(map_rating_to_sentiment)\n",
    "\n",
    "# agreement between VADER (based on compound score) and customer sentiment\n",
    "results_df['vader_agreement'] = results_df['vader_sentiment_from_compound'] == results_df['customer_sentiment']\n",
    "\n",
    "# agreement between RoBERTa and customer sentiment\n",
    "results_df['roberta_agreement'] = results_df['roberta_sentiment'] == results_df['customer_sentiment']\n",
    "\n",
    "# % Agreement \n",
    "vader_agreement_percent = results_df['vader_agreement'].mean() * 100\n",
    "roberta_agreement_percent = results_df['roberta_agreement'].mean() * 100\n",
    "\n",
    "print(f\"VADER agreement with customer rating (Score): {vader_agreement_percent:.2f}%\")\n",
    "print(f\"RoBERTa agreement with customer rating (Score): {roberta_agreement_percent:.2f}%\")\n"
   ]
  },
  {
   "cell_type": "markdown",
   "id": "3746920b-f8ee-45be-a61e-e4ab3039abe7",
   "metadata": {},
   "source": [
    "### Conclusion:\n",
    "* VADER shows 79.76% agreement, performing reasonably well but struggling with ~20% of cases due to its lexicon-based approach, which may misinterpret nuances, sarcasm, or domain-specific expressions. \n",
    "* RoBERTa achieves 85.21% agreement, leveraging its deep learning architecture for better contextual understanding, though ~15% disagreement highlights challenges with ambiguous or subjective inputs.\n",
    "\n",
    "* RoBERTa’s superior accuracy makes it ideal for tasks requiring nuanced understanding, while VADER’s speed and simplicity suit resource-constrained applications. Investigating disagreement patterns can uncover areas for improvement, such as handling sarcasm or tailoring VADER for domain-specific needs.\n"
   ]
  }
 ],
 "metadata": {
  "kernelspec": {
   "display_name": "Python 3 (ipykernel)",
   "language": "python",
   "name": "python3"
  },
  "language_info": {
   "codemirror_mode": {
    "name": "ipython",
    "version": 3
   },
   "file_extension": ".py",
   "mimetype": "text/x-python",
   "name": "python",
   "nbconvert_exporter": "python",
   "pygments_lexer": "ipython3",
   "version": "3.12.3"
  }
 },
 "nbformat": 4,
 "nbformat_minor": 5
}
