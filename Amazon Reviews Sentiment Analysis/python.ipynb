{
 "cells": [
  {
   "cell_type": "code",
   "execution_count": 18,
   "id": "a0894d36-cb66-436c-af74-2e8a772240e1",
   "metadata": {},
   "outputs": [],
   "source": [
    "# ! pip install nltk"
   ]
  },
  {
   "cell_type": "code",
   "execution_count": 49,
   "id": "c34c06d2-200f-4c14-8d22-359c5a522958",
   "metadata": {},
   "outputs": [],
   "source": [
    "# ! jupyter nbextension enable --py widgetsnbextension\n",
    "import pandas as pd\n",
    "import numpy as np\n",
    "import matplotlib.pyplot as plt\n",
    "import seaborn as sns\n",
    "plt.style.use('ggplot')\n",
    "import nltk\n",
    "\n"
   ]
  },
  {
   "cell_type": "markdown",
   "id": "5cd054f1-ff73-4296-bf94-fd570689db74",
   "metadata": {},
   "source": [
    "* VADER (Valence Aware Dictionary and sEntiment Reasoner)\n",
    "* RoBERTa (Robustly Optimized BERT):\n",
    "* Hugging Face Pipeline\n",
    "* Logistic Regression"
   ]
  },
  {
   "cell_type": "code",
   "execution_count": 20,
   "id": "91b780e7-18c3-408a-9b4e-2c905da13169",
   "metadata": {},
   "outputs": [],
   "source": [
    "import pandas as pd\n"
   ]
  },
  {
   "cell_type": "code",
   "execution_count": 21,
   "id": "5ff664d2-7acd-4040-8fc0-a7bd094457e6",
   "metadata": {},
   "outputs": [],
   "source": [
    "\n",
    "# import and read the data\n",
    "df = pd.read_csv(\"C:\\\\Users\\\\14257\\\\OneDrive\\\\Desktop\\\\Github Projects\\\\NLP projects\\\\archive (8)\\\\Reviews.csv\")"
   ]
  },
  {
   "cell_type": "code",
   "execution_count": 22,
   "id": "bd6884fe-4868-48fd-8516-70f93fecc322",
   "metadata": {},
   "outputs": [
    {
     "data": {
      "text/html": [
       "<div>\n",
       "<style scoped>\n",
       "    .dataframe tbody tr th:only-of-type {\n",
       "        vertical-align: middle;\n",
       "    }\n",
       "\n",
       "    .dataframe tbody tr th {\n",
       "        vertical-align: top;\n",
       "    }\n",
       "\n",
       "    .dataframe thead th {\n",
       "        text-align: right;\n",
       "    }\n",
       "</style>\n",
       "<table border=\"1\" class=\"dataframe\">\n",
       "  <thead>\n",
       "    <tr style=\"text-align: right;\">\n",
       "      <th></th>\n",
       "      <th>Id</th>\n",
       "      <th>ProductId</th>\n",
       "      <th>UserId</th>\n",
       "      <th>ProfileName</th>\n",
       "      <th>HelpfulnessNumerator</th>\n",
       "      <th>HelpfulnessDenominator</th>\n",
       "      <th>Score</th>\n",
       "      <th>Time</th>\n",
       "      <th>Summary</th>\n",
       "      <th>Text</th>\n",
       "    </tr>\n",
       "  </thead>\n",
       "  <tbody>\n",
       "    <tr>\n",
       "      <th>0</th>\n",
       "      <td>1</td>\n",
       "      <td>B001E4KFG0</td>\n",
       "      <td>A3SGXH7AUHU8GW</td>\n",
       "      <td>delmartian</td>\n",
       "      <td>1</td>\n",
       "      <td>1</td>\n",
       "      <td>5</td>\n",
       "      <td>1303862400</td>\n",
       "      <td>Good Quality Dog Food</td>\n",
       "      <td>I have bought several of the Vitality canned d...</td>\n",
       "    </tr>\n",
       "    <tr>\n",
       "      <th>1</th>\n",
       "      <td>2</td>\n",
       "      <td>B00813GRG4</td>\n",
       "      <td>A1D87F6ZCVE5NK</td>\n",
       "      <td>dll pa</td>\n",
       "      <td>0</td>\n",
       "      <td>0</td>\n",
       "      <td>1</td>\n",
       "      <td>1346976000</td>\n",
       "      <td>Not as Advertised</td>\n",
       "      <td>Product arrived labeled as Jumbo Salted Peanut...</td>\n",
       "    </tr>\n",
       "    <tr>\n",
       "      <th>2</th>\n",
       "      <td>3</td>\n",
       "      <td>B000LQOCH0</td>\n",
       "      <td>ABXLMWJIXXAIN</td>\n",
       "      <td>Natalia Corres \"Natalia Corres\"</td>\n",
       "      <td>1</td>\n",
       "      <td>1</td>\n",
       "      <td>4</td>\n",
       "      <td>1219017600</td>\n",
       "      <td>\"Delight\" says it all</td>\n",
       "      <td>This is a confection that has been around a fe...</td>\n",
       "    </tr>\n",
       "    <tr>\n",
       "      <th>3</th>\n",
       "      <td>4</td>\n",
       "      <td>B000UA0QIQ</td>\n",
       "      <td>A395BORC6FGVXV</td>\n",
       "      <td>Karl</td>\n",
       "      <td>3</td>\n",
       "      <td>3</td>\n",
       "      <td>2</td>\n",
       "      <td>1307923200</td>\n",
       "      <td>Cough Medicine</td>\n",
       "      <td>If you are looking for the secret ingredient i...</td>\n",
       "    </tr>\n",
       "    <tr>\n",
       "      <th>4</th>\n",
       "      <td>5</td>\n",
       "      <td>B006K2ZZ7K</td>\n",
       "      <td>A1UQRSCLF8GW1T</td>\n",
       "      <td>Michael D. Bigham \"M. Wassir\"</td>\n",
       "      <td>0</td>\n",
       "      <td>0</td>\n",
       "      <td>5</td>\n",
       "      <td>1350777600</td>\n",
       "      <td>Great taffy</td>\n",
       "      <td>Great taffy at a great price.  There was a wid...</td>\n",
       "    </tr>\n",
       "  </tbody>\n",
       "</table>\n",
       "</div>"
      ],
      "text/plain": [
       "   Id   ProductId          UserId                      ProfileName  \\\n",
       "0   1  B001E4KFG0  A3SGXH7AUHU8GW                       delmartian   \n",
       "1   2  B00813GRG4  A1D87F6ZCVE5NK                           dll pa   \n",
       "2   3  B000LQOCH0   ABXLMWJIXXAIN  Natalia Corres \"Natalia Corres\"   \n",
       "3   4  B000UA0QIQ  A395BORC6FGVXV                             Karl   \n",
       "4   5  B006K2ZZ7K  A1UQRSCLF8GW1T    Michael D. Bigham \"M. Wassir\"   \n",
       "\n",
       "   HelpfulnessNumerator  HelpfulnessDenominator  Score        Time  \\\n",
       "0                     1                       1      5  1303862400   \n",
       "1                     0                       0      1  1346976000   \n",
       "2                     1                       1      4  1219017600   \n",
       "3                     3                       3      2  1307923200   \n",
       "4                     0                       0      5  1350777600   \n",
       "\n",
       "                 Summary                                               Text  \n",
       "0  Good Quality Dog Food  I have bought several of the Vitality canned d...  \n",
       "1      Not as Advertised  Product arrived labeled as Jumbo Salted Peanut...  \n",
       "2  \"Delight\" says it all  This is a confection that has been around a fe...  \n",
       "3         Cough Medicine  If you are looking for the secret ingredient i...  \n",
       "4            Great taffy  Great taffy at a great price.  There was a wid...  "
      ]
     },
     "execution_count": 22,
     "metadata": {},
     "output_type": "execute_result"
    }
   ],
   "source": [
    "df.head()"
   ]
  },
  {
   "cell_type": "code",
   "execution_count": 23,
   "id": "67394263-8dd9-4ee0-9bfb-9ca7024edb57",
   "metadata": {},
   "outputs": [
    {
     "data": {
      "text/plain": [
       "(568454, 10)"
      ]
     },
     "execution_count": 23,
     "metadata": {},
     "output_type": "execute_result"
    }
   ],
   "source": [
    "# Check the data shape\n",
    "df.shape"
   ]
  },
  {
   "cell_type": "code",
   "execution_count": 24,
   "id": "e27634f6-8557-4a44-b848-dfa774bdcdaa",
   "metadata": {},
   "outputs": [
    {
     "data": {
      "text/plain": [
       "(5685, 10)"
      ]
     },
     "execution_count": 24,
     "metadata": {},
     "output_type": "execute_result"
    }
   ],
   "source": [
    "# Randomly sample 1/100 of the data\n",
    "data = df.sample(frac=0.01, random_state=42)\n",
    "data.shape"
   ]
  },
  {
   "cell_type": "code",
   "execution_count": 25,
   "id": "2fd414b1-8c78-4f4e-b2ea-ba68d6b87316",
   "metadata": {},
   "outputs": [
    {
     "data": {
      "text/plain": [
       "Text(0.5, 0, 'Review Stars')"
      ]
     },
     "execution_count": 25,
     "metadata": {},
     "output_type": "execute_result"
    },
    {
     "data": {
      "image/png": "[encoded data removed]",
      "text/plain": [
       "<Figure size 640x480 with 1 Axes>"
      ]
     },
     "metadata": {},
     "output_type": "display_data"
    }
   ],
   "source": [
    "ax= data['Score'].value_counts().sort_index()\\\n",
    ".plot(kind='bar', title=\"Count of Reviews\", fig=(10,5))\n",
    "ax.set_xlabel('Review Stars')\n"
   ]
  },
  {
   "cell_type": "markdown",
   "id": "fce93e37-79d6-4b70-b455-007015772085",
   "metadata": {},
   "source": [
    "### NLTK "
   ]
  },
  {
   "cell_type": "markdown",
   "id": "641b68a4-6ba6-4a22-9cab-78aaf750cd34",
   "metadata": {},
   "source": [
    "### 1. Sentiment Aanlysis using VADER (Valence Aware Dictionary and sEntiment Reasoner)"
   ]
  },
  {
   "cell_type": "markdown",
   "id": "8f5c45f1-2211-46e6-a487-2db926726905",
   "metadata": {},
   "source": [
    "* This approach automatically tokenizes text into words, punctuation marks, emoticons, and special symbols.\n",
    "* VADER accepts raw text, perfoms tokenization in the background and computes positive,negative, neatral and compound scores for each token.\n",
    "* This approach does not account for relationship between words. It essentially looks at each word and scores it individually. This is a challenge because, naturally, human language do not work like that.\n"
   ]
  },
  {
   "cell_type": "code",
   "execution_count": 26,
   "id": "d7f93b1d-00ed-48be-b9b6-8916b72b1e25",
   "metadata": {},
   "outputs": [],
   "source": [
    "# nltk.download('vader_lexicon')\n",
    "from nltk.sentiment import SentimentIntensityAnalyzer\n",
    "from tqdm.notebook import tqdm # Progress tracker "
   ]
  },
  {
   "cell_type": "code",
   "execution_count": 27,
   "id": "246afc9b-2b61-441b-9a2f-50309160051d",
   "metadata": {},
   "outputs": [],
   "source": [
    "sia = SentimentIntensityAnalyzer() # Initialize the sentiment analyzer"
   ]
  },
  {
   "cell_type": "code",
   "execution_count": 28,
   "id": "33d48e26-c0bb-4a7e-b36b-95083657ef69",
   "metadata": {},
   "outputs": [
    {
     "data": {
      "text/plain": [
       "{'neg': 0.0, 'neu': 0.334, 'pos': 0.666, 'compound': 0.6115}"
      ]
     },
     "execution_count": 28,
     "metadata": {},
     "output_type": "execute_result"
    }
   ],
   "source": [
    "# VADER scoring Example\n",
    "sia.polarity_scores('I am so Happy')"
   ]
  },
  {
   "cell_type": "markdown",
   "id": "4c3e87de-2e2e-41a2-beb6-7cfc4fb61e47",
   "metadata": {},
   "source": [
    "* The text has no negative sentiment.\n",
    "* 33.4% of the text conveys a neutral tone\n",
    "* 66.6% of the text conveys a positive sentiment"
   ]
  },
  {
   "cell_type": "code",
   "execution_count": 29,
   "id": "4c5993d6-8ea4-4ad4-b1f9-c52e29330f26",
   "metadata": {},
   "outputs": [
    {
     "data": {
      "text/plain": [
       "{'neg': 0.538, 'neu': 0.462, 'pos': 0.0, 'compound': -0.5423}"
      ]
     },
     "execution_count": 29,
     "metadata": {},
     "output_type": "execute_result"
    }
   ],
   "source": [
    "sia.polarity_scores('This product is bad')"
   ]
  },
  {
   "cell_type": "markdown",
   "id": "7517238a-a9de-4225-b530-4deec15692b0",
   "metadata": {},
   "source": [
    "* The text has no positive sentiment.\n",
    "* 46.2% of the text conveys a neutral tone\n",
    "* 53.8% of the text conveys a positive sentiment"
   ]
  },
  {
   "cell_type": "code",
   "execution_count": 37,
   "id": "956c60f7-2571-4305-a116-1ab288b40c6c",
   "metadata": {},
   "outputs": [],
   "source": [
    "# Running VADER polarity score on the text column of the dataset\n",
    "results = {}\n",
    "for i, row in data.iterrows():\n",
    "    text = row['Text']\n",
    "    myid = row['Id']\n",
    "    results[myid] = sia.polarity_scores(text)\n"
   ]
  },
  {
   "cell_type": "code",
   "execution_count": 38,
   "id": "3c55164f-7529-4b4c-be87-ff7ac5cbfbe7",
   "metadata": {},
   "outputs": [],
   "source": [
    "# change the vaders scores into a dataframe\n",
    "vaders = pd.DataFrame(results).T\n",
    "vaders = vaders.reset_index().rename(columns={'index':'Id'})\n",
    "# Merge the scores to the original dataset \n",
    "vaders = vaders.merge(data,how='left')"
   ]
  },
  {
   "cell_type": "code",
   "execution_count": 39,
   "id": "d687fc78-e293-4338-80a2-ea46a7b5d98b",
   "metadata": {},
   "outputs": [
    {
     "data": {
      "text/html": [
       "<div>\n",
       "<style scoped>\n",
       "    .dataframe tbody tr th:only-of-type {\n",
       "        vertical-align: middle;\n",
       "    }\n",
       "\n",
       "    .dataframe tbody tr th {\n",
       "        vertical-align: top;\n",
       "    }\n",
       "\n",
       "    .dataframe thead th {\n",
       "        text-align: right;\n",
       "    }\n",
       "</style>\n",
       "<table border=\"1\" class=\"dataframe\">\n",
       "  <thead>\n",
       "    <tr style=\"text-align: right;\">\n",
       "      <th></th>\n",
       "      <th>Id</th>\n",
       "      <th>neg</th>\n",
       "      <th>neu</th>\n",
       "      <th>pos</th>\n",
       "      <th>compound</th>\n",
       "      <th>ProductId</th>\n",
       "      <th>UserId</th>\n",
       "      <th>ProfileName</th>\n",
       "      <th>HelpfulnessNumerator</th>\n",
       "      <th>HelpfulnessDenominator</th>\n",
       "      <th>Score</th>\n",
       "      <th>Time</th>\n",
       "      <th>Summary</th>\n",
       "      <th>Text</th>\n",
       "    </tr>\n",
       "  </thead>\n",
       "  <tbody>\n",
       "    <tr>\n",
       "      <th>0</th>\n",
       "      <td>165257</td>\n",
       "      <td>0.000</td>\n",
       "      <td>0.768</td>\n",
       "      <td>0.232</td>\n",
       "      <td>0.9684</td>\n",
       "      <td>B000EVG8J2</td>\n",
       "      <td>A1L01D2BD3RKVO</td>\n",
       "      <td>B. Miller \"pet person\"</td>\n",
       "      <td>0</td>\n",
       "      <td>0</td>\n",
       "      <td>5</td>\n",
       "      <td>1268179200</td>\n",
       "      <td>Crunchy &amp; Good Gluten-Free Sandwich Cookies!</td>\n",
       "      <td>Having tried a couple of other brands of glute...</td>\n",
       "    </tr>\n",
       "    <tr>\n",
       "      <th>1</th>\n",
       "      <td>231466</td>\n",
       "      <td>0.089</td>\n",
       "      <td>0.766</td>\n",
       "      <td>0.144</td>\n",
       "      <td>0.7920</td>\n",
       "      <td>B0000BXJIS</td>\n",
       "      <td>A3U62RE5XZDP0G</td>\n",
       "      <td>Marty</td>\n",
       "      <td>0</td>\n",
       "      <td>0</td>\n",
       "      <td>5</td>\n",
       "      <td>1298937600</td>\n",
       "      <td>great kitty treats</td>\n",
       "      <td>My cat loves these treats. If ever I can't fin...</td>\n",
       "    </tr>\n",
       "    <tr>\n",
       "      <th>2</th>\n",
       "      <td>427828</td>\n",
       "      <td>0.000</td>\n",
       "      <td>0.880</td>\n",
       "      <td>0.120</td>\n",
       "      <td>0.4588</td>\n",
       "      <td>B008FHUFAU</td>\n",
       "      <td>AOXC0JQQZGGB6</td>\n",
       "      <td>Kenneth Shevlin</td>\n",
       "      <td>0</td>\n",
       "      <td>2</td>\n",
       "      <td>3</td>\n",
       "      <td>1224028800</td>\n",
       "      <td>COFFEE TASTE</td>\n",
       "      <td>A little less than I expected.  It tends to ha...</td>\n",
       "    </tr>\n",
       "    <tr>\n",
       "      <th>3</th>\n",
       "      <td>433955</td>\n",
       "      <td>0.009</td>\n",
       "      <td>0.827</td>\n",
       "      <td>0.163</td>\n",
       "      <td>0.9923</td>\n",
       "      <td>B006BXV14E</td>\n",
       "      <td>A3PWPNZVMNX3PA</td>\n",
       "      <td>rareoopdvds</td>\n",
       "      <td>0</td>\n",
       "      <td>1</td>\n",
       "      <td>2</td>\n",
       "      <td>1335312000</td>\n",
       "      <td>So the Mini-Wheats were too big?</td>\n",
       "      <td>First there was Frosted Mini-Wheats, in origin...</td>\n",
       "    </tr>\n",
       "    <tr>\n",
       "      <th>4</th>\n",
       "      <td>70261</td>\n",
       "      <td>0.089</td>\n",
       "      <td>0.719</td>\n",
       "      <td>0.191</td>\n",
       "      <td>0.9421</td>\n",
       "      <td>B007I7Z3Z0</td>\n",
       "      <td>A1XNZ7PCE45KK7</td>\n",
       "      <td>Og8ys1</td>\n",
       "      <td>0</td>\n",
       "      <td>2</td>\n",
       "      <td>5</td>\n",
       "      <td>1334707200</td>\n",
       "      <td>Great Taste . . .</td>\n",
       "      <td>and I want to congratulate the graphic artist ...</td>\n",
       "    </tr>\n",
       "  </tbody>\n",
       "</table>\n",
       "</div>"
      ],
      "text/plain": [
       "       Id    neg    neu    pos  compound   ProductId          UserId  \\\n",
       "0  165257  0.000  0.768  0.232    0.9684  B000EVG8J2  A1L01D2BD3RKVO   \n",
       "1  231466  0.089  0.766  0.144    0.7920  B0000BXJIS  A3U62RE5XZDP0G   \n",
       "2  427828  0.000  0.880  0.120    0.4588  B008FHUFAU   AOXC0JQQZGGB6   \n",
       "3  433955  0.009  0.827  0.163    0.9923  B006BXV14E  A3PWPNZVMNX3PA   \n",
       "4   70261  0.089  0.719  0.191    0.9421  B007I7Z3Z0  A1XNZ7PCE45KK7   \n",
       "\n",
       "              ProfileName  HelpfulnessNumerator  HelpfulnessDenominator  \\\n",
       "0  B. Miller \"pet person\"                     0                       0   \n",
       "1                   Marty                     0                       0   \n",
       "2         Kenneth Shevlin                     0                       2   \n",
       "3             rareoopdvds                     0                       1   \n",
       "4                  Og8ys1                     0                       2   \n",
       "\n",
       "   Score        Time                                       Summary  \\\n",
       "0      5  1268179200  Crunchy & Good Gluten-Free Sandwich Cookies!   \n",
       "1      5  1298937600                            great kitty treats   \n",
       "2      3  1224028800                                  COFFEE TASTE   \n",
       "3      2  1335312000              So the Mini-Wheats were too big?   \n",
       "4      5  1334707200                             Great Taste . . .   \n",
       "\n",
       "                                                Text  \n",
       "0  Having tried a couple of other brands of glute...  \n",
       "1  My cat loves these treats. If ever I can't fin...  \n",
       "2  A little less than I expected.  It tends to ha...  \n",
       "3  First there was Frosted Mini-Wheats, in origin...  \n",
       "4  and I want to congratulate the graphic artist ...  "
      ]
     },
     "execution_count": 39,
     "metadata": {},
     "output_type": "execute_result"
    }
   ],
   "source": [
    "# Original dataset with VADERS score for each column\n",
    "vaders.head()"
   ]
  },
  {
   "cell_type": "code",
   "execution_count": 40,
   "id": "b6d4702a-548e-4c9f-9fab-62aca8e9ed37",
   "metadata": {},
   "outputs": [
    {
     "data": {
      "image/png": "[encoded data removed]",
      "text/plain": [
       "<Figure size 640x480 with 1 Axes>"
      ]
     },
     "metadata": {},
     "output_type": "display_data"
    }
   ],
   "source": [
    "# Compare the VADER compound results to the amazon star reviews score\n",
    "ax = sns.barplot(data=vaders, x='Score', y='compound')\n",
    "ax.set_title('Compound Score by Amazon Star Review')\n",
    "plt.show()"
   ]
  },
  {
   "cell_type": "markdown",
   "id": "0f05c31b-5b7e-4544-83ce-bd580e9cfb16",
   "metadata": {},
   "source": [
    "* As the Amazon star review score increases, the compound score also increases. This indicates that higher star reviews tend to have more positive sentiments based on VADER analysis\n",
    "* 4 Stars and 5 Stars show the highest compound scores, indicating very positive sentiment. The 5-star reviews, in particular, have the highest positivity."
   ]
  },
  {
   "cell_type": "code",
   "execution_count": 41,
   "id": "d797a9f9-a570-412b-9878-63008c157c6e",
   "metadata": {},
   "outputs": [
    {
     "data": {
      "image/png": "[encoded data removed]",
      "text/plain": [
       "<Figure size 1200x300 with 3 Axes>"
      ]
     },
     "metadata": {},
     "output_type": "display_data"
    }
   ],
   "source": [
    "# Compare the VADER positive, negative and neutral results to the amazon star reviews score separately.\n",
    "fig, axs = plt.subplots(1, 3, figsize=(12, 3))\n",
    "sns.barplot(data=vaders, x='Score', y='pos', ax=axs[0])\n",
    "sns.barplot(data=vaders, x='Score', y='neu', ax=axs[1])\n",
    "sns.barplot(data=vaders, x='Score', y='neg', ax=axs[2])\n",
    "axs[0].set_title('Positive')\n",
    "axs[1].set_title('Neutral')\n",
    "axs[2].set_title('Negative')\n",
    "plt.tight_layout()\n",
    "plt.show()\n"
   ]
  },
  {
   "cell_type": "markdown",
   "id": "35b83d46-2b1b-449d-88fd-ebf48f51cb95",
   "metadata": {},
   "source": [
    "* Low ratings (1 and 2): Dominated by negative sentiment with some neutral elements.\n",
    "* Mid-range ratings (3): Balanced between positive, neutral, and negative sentiment.\n",
    "* High ratings (4 and 5): Strongly positive sentiment with minimal neutral or negative sentiment."
   ]
  },
  {
   "cell_type": "markdown",
   "id": "3373e1c2-6d23-4cba-b95b-0e2751249f72",
   "metadata": {},
   "source": [
    "* Sentiment Validation: This breakdown could be used to validate customer review models where sentiment needs to align with star ratings.\n",
    "* Review Analysis: Understanding the mix of sentiment in specific star categories can help companies identify areas of dissatisfaction or improvement.\n",
    "* Anomaly Detection: Reviews with mismatched sentiment scores and star ratings (e.g., high positive sentiment in a 1-star review) can be flagged for further investigation."
   ]
  },
  {
   "cell_type": "markdown",
   "id": "53ee8243-4b9c-4406-8776-944da67d7759",
   "metadata": {},
   "source": [
    "### 2. RoBERTa Pretrained Model"
   ]
  },
  {
   "cell_type": "markdown",
   "id": "aeaeb42e-fcc1-452f-a4d8-d8758da0fdb8",
   "metadata": {},
   "source": [
    "* RoBERTa is different from VADER in that it considers the entire context of a word (both before and after it) to better understand its meaning.\n",
    "* It is pretrained on large amount of unlabeled texts using masked language modeling. This means it masks random words in the input and trains the model to predict masked tokens based on the context. "
   ]
  },
  {
   "cell_type": "code",
   "execution_count": 46,
   "id": "8fff5a12-1f91-4e5a-9da2-c05e19389f4b",
   "metadata": {},
   "outputs": [],
   "source": [
    "from transformers import AutoTokenizer # This converts the text into token IDs that the model can understand. \n",
    "from transformers import AutoModelForSequenceClassification, pipeline # pretrained model for sequence classification\n",
    "from scipy.special import softmax # converts raw logits into probabilities."
   ]
  },
  {
   "cell_type": "code",
   "execution_count": 51,
   "id": "f8e854a6-a5b5-4e62-8a75-dd2d6a93ef7f",
   "metadata": {},
   "outputs": [
    {
     "name": "stdout",
     "output_type": "stream",
     "text": [
      "[{'label': 'LABEL_2', 'score': 0.9884945750236511}]\n"
     ]
    }
   ],
   "source": [
    "# Specifying the model: This is a pretrained model specifically for sentiment analysis on twitter data.\n",
    "MODEL = \"cardiffnlp/twitter-roberta-base-sentiment\"\n",
    "# Load tokenizer and model from Hugging Face's transformers library\n",
    "\n",
    "tokenizer = AutoTokenizer.from_pretrained(MODEL)\n",
    "model = AutoModelForSequenceClassification.from_pretrained(MODEL) # This is a pretrained model specific for sequence classification tasks\n"
   ]
  },
  {
   "cell_type": "code",
   "execution_count": 62,
   "id": "d0e932ea-a056-430d-b8e9-038d886ee7c3",
   "metadata": {},
   "outputs": [],
   "source": [
    "# Tokenize the Text column\n",
    "inputs = tokenizer(data['Text'].tolist(), padding=True, truncation=True, max_length=512, return_tensors=\"pt\")"
   ]
  },
  {
   "cell_type": "code",
   "execution_count": null,
   "id": "a6b84dcb-7281-4818-adb0-58c9c4b4671d",
   "metadata": {},
   "outputs": [],
   "source": []
  },
  {
   "cell_type": "code",
   "execution_count": null,
   "id": "ddafbc4f-d139-4ac9-89a4-8c43c7b796d9",
   "metadata": {},
   "outputs": [],
   "source": []
  },
  {
   "cell_type": "code",
   "execution_count": null,
   "id": "c53fd8dd-a3ec-4a9b-906f-b851779b5b93",
   "metadata": {},
   "outputs": [],
   "source": []
  },
  {
   "cell_type": "code",
   "execution_count": null,
   "id": "0845ca4c-9551-4c24-85e1-00493b8e5bdc",
   "metadata": {},
   "outputs": [],
   "source": []
  },
  {
   "cell_type": "code",
   "execution_count": 54,
   "id": "f706937c-94d0-4e30-9e82-3cc644b076bb",
   "metadata": {},
   "outputs": [
    {
     "name": "stderr",
     "output_type": "stream",
     "text": [
      "[nltk_data] Downloading package punkt to\n",
      "[nltk_data]     C:\\Users\\14257\\AppData\\Roaming\\nltk_data...\n",
      "[nltk_data]   Unzipping tokenizers\\punkt.zip.\n"
     ]
    }
   ],
   "source": [
    "import nltk\n",
    "from nltk.tokenize import word_tokenize\n",
    "import re\n",
    "\n",
    "nltk.download('punkt')\n",
    "\n",
    "def clean_text(text):\n",
    "    # Remove special characters and unnecessary spaces\n",
    "    text = re.sub(r'\\s+', ' ', text)  # Remove extra spaces\n",
    "    text = re.sub(r'[^\\w\\s]', '', text)  # Remove punctuation\n",
    "    text = text.lower()  # Convert to lowercase\n",
    "    return text\n",
    "\n",
    "# Clean the \"Text\" column\n",
    "data['cleaned_text'] = data['Text'].apply(clean_text)\n"
   ]
  },
  {
   "cell_type": "code",
   "execution_count": 55,
   "id": "de94a14d-166f-4187-a173-9395278ac275",
   "metadata": {},
   "outputs": [
    {
     "data": {
      "text/html": [
       "<div>\n",
       "<style scoped>\n",
       "    .dataframe tbody tr th:only-of-type {\n",
       "        vertical-align: middle;\n",
       "    }\n",
       "\n",
       "    .dataframe tbody tr th {\n",
       "        vertical-align: top;\n",
       "    }\n",
       "\n",
       "    .dataframe thead th {\n",
       "        text-align: right;\n",
       "    }\n",
       "</style>\n",
       "<table border=\"1\" class=\"dataframe\">\n",
       "  <thead>\n",
       "    <tr style=\"text-align: right;\">\n",
       "      <th></th>\n",
       "      <th>Id</th>\n",
       "      <th>ProductId</th>\n",
       "      <th>UserId</th>\n",
       "      <th>ProfileName</th>\n",
       "      <th>HelpfulnessNumerator</th>\n",
       "      <th>HelpfulnessDenominator</th>\n",
       "      <th>Score</th>\n",
       "      <th>Time</th>\n",
       "      <th>Summary</th>\n",
       "      <th>Text</th>\n",
       "      <th>cleaned_text</th>\n",
       "    </tr>\n",
       "  </thead>\n",
       "  <tbody>\n",
       "    <tr>\n",
       "      <th>165256</th>\n",
       "      <td>165257</td>\n",
       "      <td>B000EVG8J2</td>\n",
       "      <td>A1L01D2BD3RKVO</td>\n",
       "      <td>B. Miller \"pet person\"</td>\n",
       "      <td>0</td>\n",
       "      <td>0</td>\n",
       "      <td>5</td>\n",
       "      <td>1268179200</td>\n",
       "      <td>Crunchy &amp; Good Gluten-Free Sandwich Cookies!</td>\n",
       "      <td>Having tried a couple of other brands of glute...</td>\n",
       "      <td>having tried a couple of other brands of glute...</td>\n",
       "    </tr>\n",
       "    <tr>\n",
       "      <th>231465</th>\n",
       "      <td>231466</td>\n",
       "      <td>B0000BXJIS</td>\n",
       "      <td>A3U62RE5XZDP0G</td>\n",
       "      <td>Marty</td>\n",
       "      <td>0</td>\n",
       "      <td>0</td>\n",
       "      <td>5</td>\n",
       "      <td>1298937600</td>\n",
       "      <td>great kitty treats</td>\n",
       "      <td>My cat loves these treats. If ever I can't fin...</td>\n",
       "      <td>my cat loves these treats if ever i cant find ...</td>\n",
       "    </tr>\n",
       "    <tr>\n",
       "      <th>427827</th>\n",
       "      <td>427828</td>\n",
       "      <td>B008FHUFAU</td>\n",
       "      <td>AOXC0JQQZGGB6</td>\n",
       "      <td>Kenneth Shevlin</td>\n",
       "      <td>0</td>\n",
       "      <td>2</td>\n",
       "      <td>3</td>\n",
       "      <td>1224028800</td>\n",
       "      <td>COFFEE TASTE</td>\n",
       "      <td>A little less than I expected.  It tends to ha...</td>\n",
       "      <td>a little less than i expected it tends to have...</td>\n",
       "    </tr>\n",
       "    <tr>\n",
       "      <th>433954</th>\n",
       "      <td>433955</td>\n",
       "      <td>B006BXV14E</td>\n",
       "      <td>A3PWPNZVMNX3PA</td>\n",
       "      <td>rareoopdvds</td>\n",
       "      <td>0</td>\n",
       "      <td>1</td>\n",
       "      <td>2</td>\n",
       "      <td>1335312000</td>\n",
       "      <td>So the Mini-Wheats were too big?</td>\n",
       "      <td>First there was Frosted Mini-Wheats, in origin...</td>\n",
       "      <td>first there was frosted miniwheats in original...</td>\n",
       "    </tr>\n",
       "    <tr>\n",
       "      <th>70260</th>\n",
       "      <td>70261</td>\n",
       "      <td>B007I7Z3Z0</td>\n",
       "      <td>A1XNZ7PCE45KK7</td>\n",
       "      <td>Og8ys1</td>\n",
       "      <td>0</td>\n",
       "      <td>2</td>\n",
       "      <td>5</td>\n",
       "      <td>1334707200</td>\n",
       "      <td>Great Taste . . .</td>\n",
       "      <td>and I want to congratulate the graphic artist ...</td>\n",
       "      <td>and i want to congratulate the graphic artist ...</td>\n",
       "    </tr>\n",
       "    <tr>\n",
       "      <th>...</th>\n",
       "      <td>...</td>\n",
       "      <td>...</td>\n",
       "      <td>...</td>\n",
       "      <td>...</td>\n",
       "      <td>...</td>\n",
       "      <td>...</td>\n",
       "      <td>...</td>\n",
       "      <td>...</td>\n",
       "      <td>...</td>\n",
       "      <td>...</td>\n",
       "      <td>...</td>\n",
       "    </tr>\n",
       "    <tr>\n",
       "      <th>448203</th>\n",
       "      <td>448204</td>\n",
       "      <td>B001IA99FS</td>\n",
       "      <td>A14HK5I31UI1E4</td>\n",
       "      <td>Garjo</td>\n",
       "      <td>2</td>\n",
       "      <td>2</td>\n",
       "      <td>5</td>\n",
       "      <td>1244851200</td>\n",
       "      <td>Sweet &amp; Tender</td>\n",
       "      <td>This is a great tasting jerky. Thick, sweet an...</td>\n",
       "      <td>this is a great tasting jerky thick sweet and ...</td>\n",
       "    </tr>\n",
       "    <tr>\n",
       "      <th>356729</th>\n",
       "      <td>356730</td>\n",
       "      <td>B004U7QY5O</td>\n",
       "      <td>A1ARJ5J5KZU81D</td>\n",
       "      <td>Dev</td>\n",
       "      <td>1</td>\n",
       "      <td>1</td>\n",
       "      <td>5</td>\n",
       "      <td>1306108800</td>\n",
       "      <td>Tazo Zen Full leaf</td>\n",
       "      <td>Tazo Zen is a great tasting green tea.  I woul...</td>\n",
       "      <td>tazo zen is a great tasting green tea i would ...</td>\n",
       "    </tr>\n",
       "    <tr>\n",
       "      <th>135038</th>\n",
       "      <td>135039</td>\n",
       "      <td>B004HOQE64</td>\n",
       "      <td>A1JZRY5ZGW15NS</td>\n",
       "      <td>Grits</td>\n",
       "      <td>0</td>\n",
       "      <td>0</td>\n",
       "      <td>5</td>\n",
       "      <td>1347321600</td>\n",
       "      <td>Best Blue Diamond Almonds</td>\n",
       "      <td>I am so delighted to get these Salt and vinega...</td>\n",
       "      <td>i am so delighted to get these salt and vinega...</td>\n",
       "    </tr>\n",
       "    <tr>\n",
       "      <th>69095</th>\n",
       "      <td>69096</td>\n",
       "      <td>B0018KR8V0</td>\n",
       "      <td>AAPQ4T87EJBKE</td>\n",
       "      <td>Jan2</td>\n",
       "      <td>0</td>\n",
       "      <td>0</td>\n",
       "      <td>5</td>\n",
       "      <td>1304985600</td>\n",
       "      <td>Great product!</td>\n",
       "      <td>Me and my husband love this bar. It is great f...</td>\n",
       "      <td>me and my husband love this bar it is great fo...</td>\n",
       "    </tr>\n",
       "    <tr>\n",
       "      <th>471694</th>\n",
       "      <td>471695</td>\n",
       "      <td>B00370957E</td>\n",
       "      <td>A1MA2I8HXUQ6P6</td>\n",
       "      <td>1903farmhouse</td>\n",
       "      <td>0</td>\n",
       "      <td>0</td>\n",
       "      <td>5</td>\n",
       "      <td>1341792000</td>\n",
       "      <td>Yum, yum, yum!</td>\n",
       "      <td>The most delicious almond butter ever!  So muc...</td>\n",
       "      <td>the most delicious almond butter ever so much ...</td>\n",
       "    </tr>\n",
       "  </tbody>\n",
       "</table>\n",
       "<p>5685 rows × 11 columns</p>\n",
       "</div>"
      ],
      "text/plain": [
       "            Id   ProductId          UserId             ProfileName  \\\n",
       "165256  165257  B000EVG8J2  A1L01D2BD3RKVO  B. Miller \"pet person\"   \n",
       "231465  231466  B0000BXJIS  A3U62RE5XZDP0G                   Marty   \n",
       "427827  427828  B008FHUFAU   AOXC0JQQZGGB6         Kenneth Shevlin   \n",
       "433954  433955  B006BXV14E  A3PWPNZVMNX3PA             rareoopdvds   \n",
       "70260    70261  B007I7Z3Z0  A1XNZ7PCE45KK7                  Og8ys1   \n",
       "...        ...         ...             ...                     ...   \n",
       "448203  448204  B001IA99FS  A14HK5I31UI1E4                   Garjo   \n",
       "356729  356730  B004U7QY5O  A1ARJ5J5KZU81D                     Dev   \n",
       "135038  135039  B004HOQE64  A1JZRY5ZGW15NS                   Grits   \n",
       "69095    69096  B0018KR8V0   AAPQ4T87EJBKE                    Jan2   \n",
       "471694  471695  B00370957E  A1MA2I8HXUQ6P6           1903farmhouse   \n",
       "\n",
       "        HelpfulnessNumerator  HelpfulnessDenominator  Score        Time  \\\n",
       "165256                     0                       0      5  1268179200   \n",
       "231465                     0                       0      5  1298937600   \n",
       "427827                     0                       2      3  1224028800   \n",
       "433954                     0                       1      2  1335312000   \n",
       "70260                      0                       2      5  1334707200   \n",
       "...                      ...                     ...    ...         ...   \n",
       "448203                     2                       2      5  1244851200   \n",
       "356729                     1                       1      5  1306108800   \n",
       "135038                     0                       0      5  1347321600   \n",
       "69095                      0                       0      5  1304985600   \n",
       "471694                     0                       0      5  1341792000   \n",
       "\n",
       "                                             Summary  \\\n",
       "165256  Crunchy & Good Gluten-Free Sandwich Cookies!   \n",
       "231465                            great kitty treats   \n",
       "427827                                  COFFEE TASTE   \n",
       "433954              So the Mini-Wheats were too big?   \n",
       "70260                              Great Taste . . .   \n",
       "...                                              ...   \n",
       "448203                                Sweet & Tender   \n",
       "356729                            Tazo Zen Full leaf   \n",
       "135038                     Best Blue Diamond Almonds   \n",
       "69095                                 Great product!   \n",
       "471694                                Yum, yum, yum!   \n",
       "\n",
       "                                                     Text  \\\n",
       "165256  Having tried a couple of other brands of glute...   \n",
       "231465  My cat loves these treats. If ever I can't fin...   \n",
       "427827  A little less than I expected.  It tends to ha...   \n",
       "433954  First there was Frosted Mini-Wheats, in origin...   \n",
       "70260   and I want to congratulate the graphic artist ...   \n",
       "...                                                   ...   \n",
       "448203  This is a great tasting jerky. Thick, sweet an...   \n",
       "356729  Tazo Zen is a great tasting green tea.  I woul...   \n",
       "135038  I am so delighted to get these Salt and vinega...   \n",
       "69095   Me and my husband love this bar. It is great f...   \n",
       "471694  The most delicious almond butter ever!  So muc...   \n",
       "\n",
       "                                             cleaned_text  \n",
       "165256  having tried a couple of other brands of glute...  \n",
       "231465  my cat loves these treats if ever i cant find ...  \n",
       "427827  a little less than i expected it tends to have...  \n",
       "433954  first there was frosted miniwheats in original...  \n",
       "70260   and i want to congratulate the graphic artist ...  \n",
       "...                                                   ...  \n",
       "448203  this is a great tasting jerky thick sweet and ...  \n",
       "356729  tazo zen is a great tasting green tea i would ...  \n",
       "135038  i am so delighted to get these salt and vinega...  \n",
       "69095   me and my husband love this bar it is great fo...  \n",
       "471694  the most delicious almond butter ever so much ...  \n",
       "\n",
       "[5685 rows x 11 columns]"
      ]
     },
     "execution_count": 55,
     "metadata": {},
     "output_type": "execute_result"
    }
   ],
   "source": [
    "data"
   ]
  },
  {
   "cell_type": "code",
   "execution_count": 60,
   "id": "90ad8648-ca39-4d6f-9436-cb44b510fe04",
   "metadata": {},
   "outputs": [
    {
     "ename": "RuntimeError",
     "evalue": "The expanded size of the tensor (882) must match the existing size (514) at non-singleton dimension 1.  Target sizes: [1, 882].  Tensor sizes: [1, 514]",
     "output_type": "error",
     "traceback": [
      "\u001b[1;31m---------------------------------------------------------------------------\u001b[0m",
      "\u001b[1;31mRuntimeError\u001b[0m                              Traceback (most recent call last)",
      "Cell \u001b[1;32mIn[60], line 4\u001b[0m\n\u001b[0;32m      2\u001b[0m results \u001b[38;5;241m=\u001b[39m []\n\u001b[0;32m      3\u001b[0m \u001b[38;5;28;01mfor\u001b[39;00m text \u001b[38;5;129;01min\u001b[39;00m data[\u001b[38;5;124m'\u001b[39m\u001b[38;5;124mcleaned_text\u001b[39m\u001b[38;5;124m'\u001b[39m]:  \u001b[38;5;66;03m# Iterating through each text in the column without tqdm\u001b[39;00m\n\u001b[1;32m----> 4\u001b[0m     result \u001b[38;5;241m=\u001b[39m \u001b[43mclassifier\u001b[49m\u001b[43m(\u001b[49m\u001b[43mtext\u001b[49m\u001b[43m)\u001b[49m[\u001b[38;5;241m0\u001b[39m]  \u001b[38;5;66;03m# Get the first result (since it returns a list)\u001b[39;00m\n\u001b[0;32m      5\u001b[0m     results\u001b[38;5;241m.\u001b[39mappend(result)\n",
      "File \u001b[1;32m~\\anaconda3\\envs\\transformers_env\\lib\\site-packages\\transformers\\pipelines\\text_classification.py:159\u001b[0m, in \u001b[0;36mTextClassificationPipeline.__call__\u001b[1;34m(self, inputs, **kwargs)\u001b[0m\n\u001b[0;32m    124\u001b[0m \u001b[38;5;250m\u001b[39m\u001b[38;5;124;03m\"\"\"\u001b[39;00m\n\u001b[0;32m    125\u001b[0m \u001b[38;5;124;03mClassify the text(s) given as inputs.\u001b[39;00m\n\u001b[0;32m    126\u001b[0m \n\u001b[1;32m   (...)\u001b[0m\n\u001b[0;32m    156\u001b[0m \u001b[38;5;124;03m    If `top_k` is used, one such dictionary is returned per label.\u001b[39;00m\n\u001b[0;32m    157\u001b[0m \u001b[38;5;124;03m\"\"\"\u001b[39;00m\n\u001b[0;32m    158\u001b[0m inputs \u001b[38;5;241m=\u001b[39m (inputs,)\n\u001b[1;32m--> 159\u001b[0m result \u001b[38;5;241m=\u001b[39m \u001b[38;5;28msuper\u001b[39m()\u001b[38;5;241m.\u001b[39m\u001b[38;5;21m__call__\u001b[39m(\u001b[38;5;241m*\u001b[39minputs, \u001b[38;5;241m*\u001b[39m\u001b[38;5;241m*\u001b[39mkwargs)\n\u001b[0;32m    160\u001b[0m \u001b[38;5;66;03m# TODO try and retrieve it in a nicer way from _sanitize_parameters.\u001b[39;00m\n\u001b[0;32m    161\u001b[0m _legacy \u001b[38;5;241m=\u001b[39m \u001b[38;5;124m\"\u001b[39m\u001b[38;5;124mtop_k\u001b[39m\u001b[38;5;124m\"\u001b[39m \u001b[38;5;129;01mnot\u001b[39;00m \u001b[38;5;129;01min\u001b[39;00m kwargs\n",
      "File \u001b[1;32m~\\anaconda3\\envs\\transformers_env\\lib\\site-packages\\transformers\\pipelines\\base.py:1302\u001b[0m, in \u001b[0;36mPipeline.__call__\u001b[1;34m(self, inputs, num_workers, batch_size, *args, **kwargs)\u001b[0m\n\u001b[0;32m   1294\u001b[0m     \u001b[38;5;28;01mreturn\u001b[39;00m \u001b[38;5;28mnext\u001b[39m(\n\u001b[0;32m   1295\u001b[0m         \u001b[38;5;28miter\u001b[39m(\n\u001b[0;32m   1296\u001b[0m             \u001b[38;5;28mself\u001b[39m\u001b[38;5;241m.\u001b[39mget_iterator(\n\u001b[1;32m   (...)\u001b[0m\n\u001b[0;32m   1299\u001b[0m         )\n\u001b[0;32m   1300\u001b[0m     )\n\u001b[0;32m   1301\u001b[0m \u001b[38;5;28;01melse\u001b[39;00m:\n\u001b[1;32m-> 1302\u001b[0m     \u001b[38;5;28;01mreturn\u001b[39;00m \u001b[38;5;28;43mself\u001b[39;49m\u001b[38;5;241;43m.\u001b[39;49m\u001b[43mrun_single\u001b[49m\u001b[43m(\u001b[49m\u001b[43minputs\u001b[49m\u001b[43m,\u001b[49m\u001b[43m \u001b[49m\u001b[43mpreprocess_params\u001b[49m\u001b[43m,\u001b[49m\u001b[43m \u001b[49m\u001b[43mforward_params\u001b[49m\u001b[43m,\u001b[49m\u001b[43m \u001b[49m\u001b[43mpostprocess_params\u001b[49m\u001b[43m)\u001b[49m\n",
      "File \u001b[1;32m~\\anaconda3\\envs\\transformers_env\\lib\\site-packages\\transformers\\pipelines\\base.py:1309\u001b[0m, in \u001b[0;36mPipeline.run_single\u001b[1;34m(self, inputs, preprocess_params, forward_params, postprocess_params)\u001b[0m\n\u001b[0;32m   1307\u001b[0m \u001b[38;5;28;01mdef\u001b[39;00m \u001b[38;5;21mrun_single\u001b[39m(\u001b[38;5;28mself\u001b[39m, inputs, preprocess_params, forward_params, postprocess_params):\n\u001b[0;32m   1308\u001b[0m     model_inputs \u001b[38;5;241m=\u001b[39m \u001b[38;5;28mself\u001b[39m\u001b[38;5;241m.\u001b[39mpreprocess(inputs, \u001b[38;5;241m*\u001b[39m\u001b[38;5;241m*\u001b[39mpreprocess_params)\n\u001b[1;32m-> 1309\u001b[0m     model_outputs \u001b[38;5;241m=\u001b[39m \u001b[38;5;28mself\u001b[39m\u001b[38;5;241m.\u001b[39mforward(model_inputs, \u001b[38;5;241m*\u001b[39m\u001b[38;5;241m*\u001b[39mforward_params)\n\u001b[0;32m   1310\u001b[0m     outputs \u001b[38;5;241m=\u001b[39m \u001b[38;5;28mself\u001b[39m\u001b[38;5;241m.\u001b[39mpostprocess(model_outputs, \u001b[38;5;241m*\u001b[39m\u001b[38;5;241m*\u001b[39mpostprocess_params)\n\u001b[0;32m   1311\u001b[0m     \u001b[38;5;28;01mreturn\u001b[39;00m outputs\n",
      "File \u001b[1;32m~\\anaconda3\\envs\\transformers_env\\lib\\site-packages\\transformers\\pipelines\\base.py:1209\u001b[0m, in \u001b[0;36mPipeline.forward\u001b[1;34m(self, model_inputs, **forward_params)\u001b[0m\n\u001b[0;32m   1207\u001b[0m     \u001b[38;5;28;01mwith\u001b[39;00m inference_context():\n\u001b[0;32m   1208\u001b[0m         model_inputs \u001b[38;5;241m=\u001b[39m \u001b[38;5;28mself\u001b[39m\u001b[38;5;241m.\u001b[39m_ensure_tensor_on_device(model_inputs, device\u001b[38;5;241m=\u001b[39m\u001b[38;5;28mself\u001b[39m\u001b[38;5;241m.\u001b[39mdevice)\n\u001b[1;32m-> 1209\u001b[0m         model_outputs \u001b[38;5;241m=\u001b[39m \u001b[38;5;28mself\u001b[39m\u001b[38;5;241m.\u001b[39m_forward(model_inputs, \u001b[38;5;241m*\u001b[39m\u001b[38;5;241m*\u001b[39mforward_params)\n\u001b[0;32m   1210\u001b[0m         model_outputs \u001b[38;5;241m=\u001b[39m \u001b[38;5;28mself\u001b[39m\u001b[38;5;241m.\u001b[39m_ensure_tensor_on_device(model_outputs, device\u001b[38;5;241m=\u001b[39mtorch\u001b[38;5;241m.\u001b[39mdevice(\u001b[38;5;124m\"\u001b[39m\u001b[38;5;124mcpu\u001b[39m\u001b[38;5;124m\"\u001b[39m))\n\u001b[0;32m   1211\u001b[0m \u001b[38;5;28;01melse\u001b[39;00m:\n",
      "File \u001b[1;32m~\\anaconda3\\envs\\transformers_env\\lib\\site-packages\\transformers\\pipelines\\text_classification.py:190\u001b[0m, in \u001b[0;36mTextClassificationPipeline._forward\u001b[1;34m(self, model_inputs)\u001b[0m\n\u001b[0;32m    188\u001b[0m \u001b[38;5;28;01mif\u001b[39;00m \u001b[38;5;124m\"\u001b[39m\u001b[38;5;124muse_cache\u001b[39m\u001b[38;5;124m\"\u001b[39m \u001b[38;5;129;01min\u001b[39;00m inspect\u001b[38;5;241m.\u001b[39msignature(model_forward)\u001b[38;5;241m.\u001b[39mparameters\u001b[38;5;241m.\u001b[39mkeys():\n\u001b[0;32m    189\u001b[0m     model_inputs[\u001b[38;5;124m\"\u001b[39m\u001b[38;5;124muse_cache\u001b[39m\u001b[38;5;124m\"\u001b[39m] \u001b[38;5;241m=\u001b[39m \u001b[38;5;28;01mFalse\u001b[39;00m\n\u001b[1;32m--> 190\u001b[0m \u001b[38;5;28;01mreturn\u001b[39;00m \u001b[38;5;28mself\u001b[39m\u001b[38;5;241m.\u001b[39mmodel(\u001b[38;5;241m*\u001b[39m\u001b[38;5;241m*\u001b[39mmodel_inputs)\n",
      "File \u001b[1;32m~\\anaconda3\\envs\\transformers_env\\lib\\site-packages\\torch\\nn\\modules\\module.py:1736\u001b[0m, in \u001b[0;36mModule._wrapped_call_impl\u001b[1;34m(self, *args, **kwargs)\u001b[0m\n\u001b[0;32m   1734\u001b[0m     \u001b[38;5;28;01mreturn\u001b[39;00m \u001b[38;5;28mself\u001b[39m\u001b[38;5;241m.\u001b[39m_compiled_call_impl(\u001b[38;5;241m*\u001b[39margs, \u001b[38;5;241m*\u001b[39m\u001b[38;5;241m*\u001b[39mkwargs)  \u001b[38;5;66;03m# type: ignore[misc]\u001b[39;00m\n\u001b[0;32m   1735\u001b[0m \u001b[38;5;28;01melse\u001b[39;00m:\n\u001b[1;32m-> 1736\u001b[0m     \u001b[38;5;28;01mreturn\u001b[39;00m \u001b[38;5;28mself\u001b[39m\u001b[38;5;241m.\u001b[39m_call_impl(\u001b[38;5;241m*\u001b[39margs, \u001b[38;5;241m*\u001b[39m\u001b[38;5;241m*\u001b[39mkwargs)\n",
      "File \u001b[1;32m~\\anaconda3\\envs\\transformers_env\\lib\\site-packages\\torch\\nn\\modules\\module.py:1747\u001b[0m, in \u001b[0;36mModule._call_impl\u001b[1;34m(self, *args, **kwargs)\u001b[0m\n\u001b[0;32m   1742\u001b[0m \u001b[38;5;66;03m# If we don't have any hooks, we want to skip the rest of the logic in\u001b[39;00m\n\u001b[0;32m   1743\u001b[0m \u001b[38;5;66;03m# this function, and just call forward.\u001b[39;00m\n\u001b[0;32m   1744\u001b[0m \u001b[38;5;28;01mif\u001b[39;00m \u001b[38;5;129;01mnot\u001b[39;00m (\u001b[38;5;28mself\u001b[39m\u001b[38;5;241m.\u001b[39m_backward_hooks \u001b[38;5;129;01mor\u001b[39;00m \u001b[38;5;28mself\u001b[39m\u001b[38;5;241m.\u001b[39m_backward_pre_hooks \u001b[38;5;129;01mor\u001b[39;00m \u001b[38;5;28mself\u001b[39m\u001b[38;5;241m.\u001b[39m_forward_hooks \u001b[38;5;129;01mor\u001b[39;00m \u001b[38;5;28mself\u001b[39m\u001b[38;5;241m.\u001b[39m_forward_pre_hooks\n\u001b[0;32m   1745\u001b[0m         \u001b[38;5;129;01mor\u001b[39;00m _global_backward_pre_hooks \u001b[38;5;129;01mor\u001b[39;00m _global_backward_hooks\n\u001b[0;32m   1746\u001b[0m         \u001b[38;5;129;01mor\u001b[39;00m _global_forward_hooks \u001b[38;5;129;01mor\u001b[39;00m _global_forward_pre_hooks):\n\u001b[1;32m-> 1747\u001b[0m     \u001b[38;5;28;01mreturn\u001b[39;00m forward_call(\u001b[38;5;241m*\u001b[39margs, \u001b[38;5;241m*\u001b[39m\u001b[38;5;241m*\u001b[39mkwargs)\n\u001b[0;32m   1749\u001b[0m result \u001b[38;5;241m=\u001b[39m \u001b[38;5;28;01mNone\u001b[39;00m\n\u001b[0;32m   1750\u001b[0m called_always_called_hooks \u001b[38;5;241m=\u001b[39m \u001b[38;5;28mset\u001b[39m()\n",
      "File \u001b[1;32m~\\anaconda3\\envs\\transformers_env\\lib\\site-packages\\transformers\\models\\roberta\\modeling_roberta.py:1318\u001b[0m, in \u001b[0;36mRobertaForSequenceClassification.forward\u001b[1;34m(self, input_ids, attention_mask, token_type_ids, position_ids, head_mask, inputs_embeds, labels, output_attentions, output_hidden_states, return_dict)\u001b[0m\n\u001b[0;32m   1310\u001b[0m \u001b[38;5;250m\u001b[39m\u001b[38;5;124mr\u001b[39m\u001b[38;5;124;03m\"\"\"\u001b[39;00m\n\u001b[0;32m   1311\u001b[0m \u001b[38;5;124;03mlabels (`torch.LongTensor` of shape `(batch_size,)`, *optional*):\u001b[39;00m\n\u001b[0;32m   1312\u001b[0m \u001b[38;5;124;03m    Labels for computing the sequence classification/regression loss. Indices should be in `[0, ...,\u001b[39;00m\n\u001b[0;32m   1313\u001b[0m \u001b[38;5;124;03m    config.num_labels - 1]`. If `config.num_labels == 1` a regression loss is computed (Mean-Square loss), If\u001b[39;00m\n\u001b[0;32m   1314\u001b[0m \u001b[38;5;124;03m    `config.num_labels > 1` a classification loss is computed (Cross-Entropy).\u001b[39;00m\n\u001b[0;32m   1315\u001b[0m \u001b[38;5;124;03m\"\"\"\u001b[39;00m\n\u001b[0;32m   1316\u001b[0m return_dict \u001b[38;5;241m=\u001b[39m return_dict \u001b[38;5;28;01mif\u001b[39;00m return_dict \u001b[38;5;129;01mis\u001b[39;00m \u001b[38;5;129;01mnot\u001b[39;00m \u001b[38;5;28;01mNone\u001b[39;00m \u001b[38;5;28;01melse\u001b[39;00m \u001b[38;5;28mself\u001b[39m\u001b[38;5;241m.\u001b[39mconfig\u001b[38;5;241m.\u001b[39muse_return_dict\n\u001b[1;32m-> 1318\u001b[0m outputs \u001b[38;5;241m=\u001b[39m \u001b[38;5;28;43mself\u001b[39;49m\u001b[38;5;241;43m.\u001b[39;49m\u001b[43mroberta\u001b[49m\u001b[43m(\u001b[49m\n\u001b[0;32m   1319\u001b[0m \u001b[43m    \u001b[49m\u001b[43minput_ids\u001b[49m\u001b[43m,\u001b[49m\n\u001b[0;32m   1320\u001b[0m \u001b[43m    \u001b[49m\u001b[43mattention_mask\u001b[49m\u001b[38;5;241;43m=\u001b[39;49m\u001b[43mattention_mask\u001b[49m\u001b[43m,\u001b[49m\n\u001b[0;32m   1321\u001b[0m \u001b[43m    \u001b[49m\u001b[43mtoken_type_ids\u001b[49m\u001b[38;5;241;43m=\u001b[39;49m\u001b[43mtoken_type_ids\u001b[49m\u001b[43m,\u001b[49m\n\u001b[0;32m   1322\u001b[0m \u001b[43m    \u001b[49m\u001b[43mposition_ids\u001b[49m\u001b[38;5;241;43m=\u001b[39;49m\u001b[43mposition_ids\u001b[49m\u001b[43m,\u001b[49m\n\u001b[0;32m   1323\u001b[0m \u001b[43m    \u001b[49m\u001b[43mhead_mask\u001b[49m\u001b[38;5;241;43m=\u001b[39;49m\u001b[43mhead_mask\u001b[49m\u001b[43m,\u001b[49m\n\u001b[0;32m   1324\u001b[0m \u001b[43m    \u001b[49m\u001b[43minputs_embeds\u001b[49m\u001b[38;5;241;43m=\u001b[39;49m\u001b[43minputs_embeds\u001b[49m\u001b[43m,\u001b[49m\n\u001b[0;32m   1325\u001b[0m \u001b[43m    \u001b[49m\u001b[43moutput_attentions\u001b[49m\u001b[38;5;241;43m=\u001b[39;49m\u001b[43moutput_attentions\u001b[49m\u001b[43m,\u001b[49m\n\u001b[0;32m   1326\u001b[0m \u001b[43m    \u001b[49m\u001b[43moutput_hidden_states\u001b[49m\u001b[38;5;241;43m=\u001b[39;49m\u001b[43moutput_hidden_states\u001b[49m\u001b[43m,\u001b[49m\n\u001b[0;32m   1327\u001b[0m \u001b[43m    \u001b[49m\u001b[43mreturn_dict\u001b[49m\u001b[38;5;241;43m=\u001b[39;49m\u001b[43mreturn_dict\u001b[49m\u001b[43m,\u001b[49m\n\u001b[0;32m   1328\u001b[0m \u001b[43m\u001b[49m\u001b[43m)\u001b[49m\n\u001b[0;32m   1329\u001b[0m sequence_output \u001b[38;5;241m=\u001b[39m outputs[\u001b[38;5;241m0\u001b[39m]\n\u001b[0;32m   1330\u001b[0m logits \u001b[38;5;241m=\u001b[39m \u001b[38;5;28mself\u001b[39m\u001b[38;5;241m.\u001b[39mclassifier(sequence_output)\n",
      "File \u001b[1;32m~\\anaconda3\\envs\\transformers_env\\lib\\site-packages\\torch\\nn\\modules\\module.py:1736\u001b[0m, in \u001b[0;36mModule._wrapped_call_impl\u001b[1;34m(self, *args, **kwargs)\u001b[0m\n\u001b[0;32m   1734\u001b[0m     \u001b[38;5;28;01mreturn\u001b[39;00m \u001b[38;5;28mself\u001b[39m\u001b[38;5;241m.\u001b[39m_compiled_call_impl(\u001b[38;5;241m*\u001b[39margs, \u001b[38;5;241m*\u001b[39m\u001b[38;5;241m*\u001b[39mkwargs)  \u001b[38;5;66;03m# type: ignore[misc]\u001b[39;00m\n\u001b[0;32m   1735\u001b[0m \u001b[38;5;28;01melse\u001b[39;00m:\n\u001b[1;32m-> 1736\u001b[0m     \u001b[38;5;28;01mreturn\u001b[39;00m \u001b[38;5;28mself\u001b[39m\u001b[38;5;241m.\u001b[39m_call_impl(\u001b[38;5;241m*\u001b[39margs, \u001b[38;5;241m*\u001b[39m\u001b[38;5;241m*\u001b[39mkwargs)\n",
      "File \u001b[1;32m~\\anaconda3\\envs\\transformers_env\\lib\\site-packages\\torch\\nn\\modules\\module.py:1747\u001b[0m, in \u001b[0;36mModule._call_impl\u001b[1;34m(self, *args, **kwargs)\u001b[0m\n\u001b[0;32m   1742\u001b[0m \u001b[38;5;66;03m# If we don't have any hooks, we want to skip the rest of the logic in\u001b[39;00m\n\u001b[0;32m   1743\u001b[0m \u001b[38;5;66;03m# this function, and just call forward.\u001b[39;00m\n\u001b[0;32m   1744\u001b[0m \u001b[38;5;28;01mif\u001b[39;00m \u001b[38;5;129;01mnot\u001b[39;00m (\u001b[38;5;28mself\u001b[39m\u001b[38;5;241m.\u001b[39m_backward_hooks \u001b[38;5;129;01mor\u001b[39;00m \u001b[38;5;28mself\u001b[39m\u001b[38;5;241m.\u001b[39m_backward_pre_hooks \u001b[38;5;129;01mor\u001b[39;00m \u001b[38;5;28mself\u001b[39m\u001b[38;5;241m.\u001b[39m_forward_hooks \u001b[38;5;129;01mor\u001b[39;00m \u001b[38;5;28mself\u001b[39m\u001b[38;5;241m.\u001b[39m_forward_pre_hooks\n\u001b[0;32m   1745\u001b[0m         \u001b[38;5;129;01mor\u001b[39;00m _global_backward_pre_hooks \u001b[38;5;129;01mor\u001b[39;00m _global_backward_hooks\n\u001b[0;32m   1746\u001b[0m         \u001b[38;5;129;01mor\u001b[39;00m _global_forward_hooks \u001b[38;5;129;01mor\u001b[39;00m _global_forward_pre_hooks):\n\u001b[1;32m-> 1747\u001b[0m     \u001b[38;5;28;01mreturn\u001b[39;00m forward_call(\u001b[38;5;241m*\u001b[39margs, \u001b[38;5;241m*\u001b[39m\u001b[38;5;241m*\u001b[39mkwargs)\n\u001b[0;32m   1749\u001b[0m result \u001b[38;5;241m=\u001b[39m \u001b[38;5;28;01mNone\u001b[39;00m\n\u001b[0;32m   1750\u001b[0m called_always_called_hooks \u001b[38;5;241m=\u001b[39m \u001b[38;5;28mset\u001b[39m()\n",
      "File \u001b[1;32m~\\anaconda3\\envs\\transformers_env\\lib\\site-packages\\transformers\\models\\roberta\\modeling_roberta.py:907\u001b[0m, in \u001b[0;36mRobertaModel.forward\u001b[1;34m(self, input_ids, attention_mask, token_type_ids, position_ids, head_mask, inputs_embeds, encoder_hidden_states, encoder_attention_mask, past_key_values, use_cache, output_attentions, output_hidden_states, return_dict)\u001b[0m\n\u001b[0;32m    905\u001b[0m \u001b[38;5;28;01mif\u001b[39;00m \u001b[38;5;28mhasattr\u001b[39m(\u001b[38;5;28mself\u001b[39m\u001b[38;5;241m.\u001b[39membeddings, \u001b[38;5;124m\"\u001b[39m\u001b[38;5;124mtoken_type_ids\u001b[39m\u001b[38;5;124m\"\u001b[39m):\n\u001b[0;32m    906\u001b[0m     buffered_token_type_ids \u001b[38;5;241m=\u001b[39m \u001b[38;5;28mself\u001b[39m\u001b[38;5;241m.\u001b[39membeddings\u001b[38;5;241m.\u001b[39mtoken_type_ids[:, :seq_length]\n\u001b[1;32m--> 907\u001b[0m     buffered_token_type_ids_expanded \u001b[38;5;241m=\u001b[39m \u001b[43mbuffered_token_type_ids\u001b[49m\u001b[38;5;241;43m.\u001b[39;49m\u001b[43mexpand\u001b[49m\u001b[43m(\u001b[49m\u001b[43mbatch_size\u001b[49m\u001b[43m,\u001b[49m\u001b[43m \u001b[49m\u001b[43mseq_length\u001b[49m\u001b[43m)\u001b[49m\n\u001b[0;32m    908\u001b[0m     token_type_ids \u001b[38;5;241m=\u001b[39m buffered_token_type_ids_expanded\n\u001b[0;32m    909\u001b[0m \u001b[38;5;28;01melse\u001b[39;00m:\n",
      "\u001b[1;31mRuntimeError\u001b[0m: The expanded size of the tensor (882) must match the existing size (514) at non-singleton dimension 1.  Target sizes: [1, 882].  Tensor sizes: [1, 514]"
     ]
    }
   ],
   "source": [
    "# Running the RoBERTa Pretrained Model on the text column of the data\n",
    "results = []\n",
    "for text in data['cleaned_text']:  # Iterating through each text in the column \n",
    "    result = classifier(text)[0]  # Get the first result (since it returns a list)\n",
    "    results.append(result)"
   ]
  },
  {
   "cell_type": "code",
   "execution_count": null,
   "id": "958770be-7ecc-4653-b574-75bf5ff922bc",
   "metadata": {},
   "outputs": [],
   "source": []
  },
  {
   "cell_type": "code",
   "execution_count": null,
   "id": "6e2ba194-6750-4a60-a017-3ef83c184c18",
   "metadata": {},
   "outputs": [],
   "source": []
  },
  {
   "cell_type": "code",
   "execution_count": null,
   "id": "58f3ed17-3470-4fdd-a40c-4bfabc929587",
   "metadata": {},
   "outputs": [],
   "source": []
  },
  {
   "cell_type": "code",
   "execution_count": 44,
   "id": "9a13bd39-4203-4d51-9d6f-0dacdcfe1fb8",
   "metadata": {},
   "outputs": [],
   "source": [
    "#### STEP 1: Text preprocessing : Using NLTK to clean and tokenize the texts"
   ]
  },
  {
   "cell_type": "code",
   "execution_count": null,
   "id": "06647f65-a27c-4905-a1f8-4505069a72ac",
   "metadata": {},
   "outputs": [],
   "source": []
  },
  {
   "cell_type": "code",
   "execution_count": null,
   "id": "d14cb42c-d1b3-4c81-8e40-12ced7dc32e2",
   "metadata": {},
   "outputs": [],
   "source": [
    "### Step 2: Feature Extraction\n"
   ]
  },
  {
   "cell_type": "code",
   "execution_count": null,
   "id": "37a5c1a2-d093-4286-84ba-11334b3af837",
   "metadata": {},
   "outputs": [],
   "source": []
  },
  {
   "cell_type": "code",
   "execution_count": null,
   "id": "d5af7e1d-aa12-48d3-9fed-f6106be43e88",
   "metadata": {},
   "outputs": [],
   "source": [
    "### Step 3: Modeling"
   ]
  },
  {
   "cell_type": "code",
   "execution_count": null,
   "id": "fb819fbf-6643-4656-922b-06b4fd707c57",
   "metadata": {},
   "outputs": [],
   "source": []
  },
  {
   "cell_type": "code",
   "execution_count": null,
   "id": "b2304bf4-9a06-4809-ba8e-ed0b6bb72171",
   "metadata": {},
   "outputs": [],
   "source": []
  },
  {
   "cell_type": "code",
   "execution_count": null,
   "id": "43cd38b0-9503-43fe-bb7d-a2a26f574a2c",
   "metadata": {},
   "outputs": [],
   "source": []
  },
  {
   "cell_type": "code",
   "execution_count": 21,
   "id": "35d55cb7-90b2-4133-b1aa-8a8606ba1bd6",
   "metadata": {},
   "outputs": [
    {
     "ename": "TypeError",
     "evalue": "'DataFrame' object is not callable",
     "output_type": "error",
     "traceback": [
      "\u001b[1;31m---------------------------------------------------------------------------\u001b[0m",
      "\u001b[1;31mTypeError\u001b[0m                                 Traceback (most recent call last)",
      "Cell \u001b[1;32mIn[21], line 2\u001b[0m\n\u001b[0;32m      1\u001b[0m \u001b[38;5;66;03m# Check an example of the \"Text\" column\u001b[39;00m\n\u001b[1;32m----> 2\u001b[0m data(\u001b[38;5;124m\"\u001b[39m\u001b[38;5;124mText\u001b[39m\u001b[38;5;124m\"\u001b[39m)\u001b[38;5;241m.\u001b[39mvalue[\u001b[38;5;241m0\u001b[39m]\n",
      "\u001b[1;31mTypeError\u001b[0m: 'DataFrame' object is not callable"
     ]
    }
   ],
   "source": [
    "# Check an example of the \"Text\" column\n",
    "data(\"Text\").value[0]\n"
   ]
  },
  {
   "cell_type": "code",
   "execution_count": null,
   "id": "cda2c8ac-c1a9-45b7-a178-5ceaba76d6d2",
   "metadata": {},
   "outputs": [],
   "source": []
  },
  {
   "cell_type": "code",
   "execution_count": null,
   "id": "c38d09fa-20d6-4d8b-9f1c-53e1f921a54e",
   "metadata": {},
   "outputs": [],
   "source": []
  }
 ],
 "metadata": {
  "kernelspec": {
   "display_name": "Python 3 (ipykernel)",
   "language": "python",
   "name": "python3"
  },
  "language_info": {
   "codemirror_mode": {
    "name": "ipython",
    "version": 3
   },
   "file_extension": ".py",
   "mimetype": "text/x-python",
   "name": "python",
   "nbconvert_exporter": "python",
   "pygments_lexer": "ipython3",
   "version": "3.12.3"
  }
 },
 "nbformat": 4,
 "nbformat_minor": 5
}
